{
 "cells": [
  {
   "cell_type": "markdown",
   "metadata": {},
   "source": [
    "Simulation Demonstration\n",
    "====================="
   ]
  },
  {
   "cell_type": "code",
   "execution_count": 13,
   "metadata": {},
   "outputs": [],
   "source": [
    "import matplotlib.pyplot as plt\n",
    "import pandas as pd\n",
    "import numpy as np\n",
    "\n",
    "import soepy"
   ]
  },
  {
   "cell_type": "markdown",
   "metadata": {},
   "source": [
    "In this notebook we present descriptive statistics of a series of simulated samples with the soepy toy model.\n",
    "\n",
    "soepy is closely aligned to the model in Blundell et. al. (2016). Yet, we wish to use the soepy package for estimation based on the German SOEP. In this simulation demonstration, some parameter values are partially set close to the parameters estimated in the seminal paper of Blundell et. al. (2016). The remainder of the parameter values are altered such that simulated wage levels and employment choice probabilities (roughly) match the statistics observed in the SOEP Data. \n",
    "- the constants in the wage process gamma_0 equal are set to ensure alignment with SOEP data.\n",
    "- the returns to experience in the wage process gamma_1 are set close to the coefficient values on gamma0, Blundell Table VIII, p. 1733\n",
    "- the part-time experience accumulation parameter is set close to the coefficient on g(P), Blundell Table VIII, p. 1733,\n",
    "- the experience depreciation parameter delta is set close to the coefffient values on delta, Blundell Table VIII, p. 1733,\n",
    "- the disutility of part-time work parameter theta_p is set to ensure alignment with SOEP data,\n",
    "- the disutility of full-time work parameter theta_f is set to ensure alignment with SOEP data.\n",
    "\n",
    "To ensure that some individuals also choose to be non-emplyed, we set the period wage for nonemployed to be equal to some fixed value, constant over all periods. We call this income in unemployment \"benefits\"."
   ]
  },
  {
   "cell_type": "code",
   "execution_count": 6,
   "metadata": {},
   "outputs": [],
   "source": [
    "data_frame_baseline = soepy.simulate('toy_model_init_file_01_1000.yml')"
   ]
  },
  {
   "cell_type": "code",
   "execution_count": 7,
   "metadata": {},
   "outputs": [
    {
     "data": {
      "text/html": [
       "<div>\n",
       "<style scoped>\n",
       "    .dataframe tbody tr th:only-of-type {\n",
       "        vertical-align: middle;\n",
       "    }\n",
       "\n",
       "    .dataframe tbody tr th {\n",
       "        vertical-align: top;\n",
       "    }\n",
       "\n",
       "    .dataframe thead th {\n",
       "        text-align: right;\n",
       "    }\n",
       "</style>\n",
       "<table border=\"1\" class=\"dataframe\">\n",
       "  <thead>\n",
       "    <tr style=\"text-align: right;\">\n",
       "      <th></th>\n",
       "      <th>Identifier</th>\n",
       "      <th>Period</th>\n",
       "      <th>Years of Education</th>\n",
       "      <th>Choice</th>\n",
       "      <th>Systematic Wage</th>\n",
       "      <th>Period Wage N</th>\n",
       "      <th>Period Wage P</th>\n",
       "      <th>Period Wage F</th>\n",
       "      <th>Consumption Utility N</th>\n",
       "      <th>Consumption Utility P</th>\n",
       "      <th>Consumption Utility F</th>\n",
       "      <th>Flow Utility N</th>\n",
       "      <th>Flow Utility P</th>\n",
       "      <th>Flow Utility F</th>\n",
       "    </tr>\n",
       "  </thead>\n",
       "  <tbody>\n",
       "    <tr>\n",
       "      <th>0</th>\n",
       "      <td>0</td>\n",
       "      <td>0</td>\n",
       "      <td>10</td>\n",
       "      <td>2.0</td>\n",
       "      <td>6.855149</td>\n",
       "      <td>6.0</td>\n",
       "      <td>8.188784</td>\n",
       "      <td>15.014135</td>\n",
       "      <td>-0.654707</td>\n",
       "      <td>-0.109008</td>\n",
       "      <td>-0.051085</td>\n",
       "      <td>-0.654707</td>\n",
       "      <td>-0.728813</td>\n",
       "      <td>-0.586686</td>\n",
       "    </tr>\n",
       "    <tr>\n",
       "      <th>1</th>\n",
       "      <td>0</td>\n",
       "      <td>1</td>\n",
       "      <td>10</td>\n",
       "      <td>0.0</td>\n",
       "      <td>7.423946</td>\n",
       "      <td>6.0</td>\n",
       "      <td>8.725563</td>\n",
       "      <td>5.065398</td>\n",
       "      <td>-0.654707</td>\n",
       "      <td>-0.105200</td>\n",
       "      <td>-0.093875</td>\n",
       "      <td>-0.654707</td>\n",
       "      <td>-0.703355</td>\n",
       "      <td>-1.078108</td>\n",
       "    </tr>\n",
       "    <tr>\n",
       "      <th>2</th>\n",
       "      <td>0</td>\n",
       "      <td>2</td>\n",
       "      <td>10</td>\n",
       "      <td>0.0</td>\n",
       "      <td>7.423946</td>\n",
       "      <td>6.0</td>\n",
       "      <td>5.689242</td>\n",
       "      <td>8.746799</td>\n",
       "      <td>-0.654707</td>\n",
       "      <td>-0.133668</td>\n",
       "      <td>-0.069135</td>\n",
       "      <td>-0.654707</td>\n",
       "      <td>-0.893693</td>\n",
       "      <td>-0.793982</td>\n",
       "    </tr>\n",
       "    <tr>\n",
       "      <th>3</th>\n",
       "      <td>0</td>\n",
       "      <td>3</td>\n",
       "      <td>10</td>\n",
       "      <td>0.0</td>\n",
       "      <td>7.423946</td>\n",
       "      <td>6.0</td>\n",
       "      <td>8.349554</td>\n",
       "      <td>4.796164</td>\n",
       "      <td>-0.654707</td>\n",
       "      <td>-0.107827</td>\n",
       "      <td>-0.096790</td>\n",
       "      <td>-0.654707</td>\n",
       "      <td>-0.720921</td>\n",
       "      <td>-1.111592</td>\n",
       "    </tr>\n",
       "    <tr>\n",
       "      <th>4</th>\n",
       "      <td>0</td>\n",
       "      <td>4</td>\n",
       "      <td>10</td>\n",
       "      <td>0.0</td>\n",
       "      <td>7.423946</td>\n",
       "      <td>6.0</td>\n",
       "      <td>7.107834</td>\n",
       "      <td>4.972434</td>\n",
       "      <td>-0.654707</td>\n",
       "      <td>-0.118001</td>\n",
       "      <td>-0.094854</td>\n",
       "      <td>-0.654707</td>\n",
       "      <td>-0.788944</td>\n",
       "      <td>-1.089350</td>\n",
       "    </tr>\n",
       "    <tr>\n",
       "      <th>5</th>\n",
       "      <td>0</td>\n",
       "      <td>5</td>\n",
       "      <td>10</td>\n",
       "      <td>2.0</td>\n",
       "      <td>7.423946</td>\n",
       "      <td>6.0</td>\n",
       "      <td>8.181864</td>\n",
       "      <td>16.784272</td>\n",
       "      <td>-0.654707</td>\n",
       "      <td>-0.109059</td>\n",
       "      <td>-0.047994</td>\n",
       "      <td>-0.654707</td>\n",
       "      <td>-0.729158</td>\n",
       "      <td>-0.551189</td>\n",
       "    </tr>\n",
       "    <tr>\n",
       "      <th>6</th>\n",
       "      <td>0</td>\n",
       "      <td>6</td>\n",
       "      <td>10</td>\n",
       "      <td>1.0</td>\n",
       "      <td>7.787468</td>\n",
       "      <td>6.0</td>\n",
       "      <td>11.461648</td>\n",
       "      <td>11.878650</td>\n",
       "      <td>-0.654707</td>\n",
       "      <td>-0.090299</td>\n",
       "      <td>-0.058246</td>\n",
       "      <td>-0.654707</td>\n",
       "      <td>-0.603727</td>\n",
       "      <td>-0.668923</td>\n",
       "    </tr>\n",
       "    <tr>\n",
       "      <th>7</th>\n",
       "      <td>0</td>\n",
       "      <td>7</td>\n",
       "      <td>10</td>\n",
       "      <td>0.0</td>\n",
       "      <td>7.841832</td>\n",
       "      <td>6.0</td>\n",
       "      <td>7.258882</td>\n",
       "      <td>8.760159</td>\n",
       "      <td>-0.654707</td>\n",
       "      <td>-0.116620</td>\n",
       "      <td>-0.069076</td>\n",
       "      <td>-0.654707</td>\n",
       "      <td>-0.779708</td>\n",
       "      <td>-0.793303</td>\n",
       "    </tr>\n",
       "    <tr>\n",
       "      <th>8</th>\n",
       "      <td>0</td>\n",
       "      <td>8</td>\n",
       "      <td>10</td>\n",
       "      <td>0.0</td>\n",
       "      <td>7.841832</td>\n",
       "      <td>6.0</td>\n",
       "      <td>7.081287</td>\n",
       "      <td>5.600789</td>\n",
       "      <td>-0.654707</td>\n",
       "      <td>-0.118249</td>\n",
       "      <td>-0.088739</td>\n",
       "      <td>-0.654707</td>\n",
       "      <td>-0.790599</td>\n",
       "      <td>-1.019123</td>\n",
       "    </tr>\n",
       "    <tr>\n",
       "      <th>9</th>\n",
       "      <td>0</td>\n",
       "      <td>9</td>\n",
       "      <td>10</td>\n",
       "      <td>0.0</td>\n",
       "      <td>7.841832</td>\n",
       "      <td>6.0</td>\n",
       "      <td>7.440079</td>\n",
       "      <td>5.851004</td>\n",
       "      <td>-0.654707</td>\n",
       "      <td>-0.115021</td>\n",
       "      <td>-0.086593</td>\n",
       "      <td>-0.654707</td>\n",
       "      <td>-0.769016</td>\n",
       "      <td>-0.994482</td>\n",
       "    </tr>\n",
       "    <tr>\n",
       "      <th>10</th>\n",
       "      <td>0</td>\n",
       "      <td>10</td>\n",
       "      <td>10</td>\n",
       "      <td>0.0</td>\n",
       "      <td>7.841832</td>\n",
       "      <td>6.0</td>\n",
       "      <td>5.127194</td>\n",
       "      <td>6.310813</td>\n",
       "      <td>-0.654707</td>\n",
       "      <td>-0.141686</td>\n",
       "      <td>-0.083001</td>\n",
       "      <td>-0.654707</td>\n",
       "      <td>-0.947297</td>\n",
       "      <td>-0.953231</td>\n",
       "    </tr>\n",
       "    <tr>\n",
       "      <th>11</th>\n",
       "      <td>0</td>\n",
       "      <td>11</td>\n",
       "      <td>10</td>\n",
       "      <td>1.0</td>\n",
       "      <td>7.841832</td>\n",
       "      <td>6.0</td>\n",
       "      <td>9.869309</td>\n",
       "      <td>8.760301</td>\n",
       "      <td>-0.654707</td>\n",
       "      <td>-0.098188</td>\n",
       "      <td>-0.069075</td>\n",
       "      <td>-0.654707</td>\n",
       "      <td>-0.656475</td>\n",
       "      <td>-0.793296</td>\n",
       "    </tr>\n",
       "    <tr>\n",
       "      <th>12</th>\n",
       "      <td>0</td>\n",
       "      <td>12</td>\n",
       "      <td>10</td>\n",
       "      <td>0.0</td>\n",
       "      <td>7.893611</td>\n",
       "      <td>6.0</td>\n",
       "      <td>8.206376</td>\n",
       "      <td>9.966048</td>\n",
       "      <td>-0.654707</td>\n",
       "      <td>-0.108877</td>\n",
       "      <td>-0.064263</td>\n",
       "      <td>-0.654707</td>\n",
       "      <td>-0.727938</td>\n",
       "      <td>-0.738028</td>\n",
       "    </tr>\n",
       "    <tr>\n",
       "      <th>13</th>\n",
       "      <td>0</td>\n",
       "      <td>13</td>\n",
       "      <td>10</td>\n",
       "      <td>0.0</td>\n",
       "      <td>7.893611</td>\n",
       "      <td>6.0</td>\n",
       "      <td>6.576798</td>\n",
       "      <td>4.780500</td>\n",
       "      <td>-0.654707</td>\n",
       "      <td>-0.123246</td>\n",
       "      <td>-0.096968</td>\n",
       "      <td>-0.654707</td>\n",
       "      <td>-0.824007</td>\n",
       "      <td>-1.113630</td>\n",
       "    </tr>\n",
       "    <tr>\n",
       "      <th>14</th>\n",
       "      <td>0</td>\n",
       "      <td>14</td>\n",
       "      <td>10</td>\n",
       "      <td>0.0</td>\n",
       "      <td>7.893611</td>\n",
       "      <td>6.0</td>\n",
       "      <td>5.971733</td>\n",
       "      <td>5.353538</td>\n",
       "      <td>-0.654707</td>\n",
       "      <td>-0.130090</td>\n",
       "      <td>-0.091011</td>\n",
       "      <td>-0.654707</td>\n",
       "      <td>-0.869766</td>\n",
       "      <td>-1.045219</td>\n",
       "    </tr>\n",
       "    <tr>\n",
       "      <th>15</th>\n",
       "      <td>0</td>\n",
       "      <td>15</td>\n",
       "      <td>10</td>\n",
       "      <td>0.0</td>\n",
       "      <td>7.893611</td>\n",
       "      <td>6.0</td>\n",
       "      <td>9.603423</td>\n",
       "      <td>4.040009</td>\n",
       "      <td>-0.654707</td>\n",
       "      <td>-0.099701</td>\n",
       "      <td>-0.106551</td>\n",
       "      <td>-0.654707</td>\n",
       "      <td>-0.666592</td>\n",
       "      <td>-1.223691</td>\n",
       "    </tr>\n",
       "    <tr>\n",
       "      <th>16</th>\n",
       "      <td>0</td>\n",
       "      <td>16</td>\n",
       "      <td>10</td>\n",
       "      <td>1.0</td>\n",
       "      <td>7.893611</td>\n",
       "      <td>6.0</td>\n",
       "      <td>11.710488</td>\n",
       "      <td>10.760813</td>\n",
       "      <td>-0.654707</td>\n",
       "      <td>-0.089219</td>\n",
       "      <td>-0.061560</td>\n",
       "      <td>-0.654707</td>\n",
       "      <td>-0.596509</td>\n",
       "      <td>-0.706989</td>\n",
       "    </tr>\n",
       "    <tr>\n",
       "      <th>17</th>\n",
       "      <td>0</td>\n",
       "      <td>17</td>\n",
       "      <td>10</td>\n",
       "      <td>1.0</td>\n",
       "      <td>7.943055</td>\n",
       "      <td>6.0</td>\n",
       "      <td>10.004341</td>\n",
       "      <td>6.078288</td>\n",
       "      <td>-0.654707</td>\n",
       "      <td>-0.097444</td>\n",
       "      <td>-0.084765</td>\n",
       "      <td>-0.654707</td>\n",
       "      <td>-0.651498</td>\n",
       "      <td>-0.973483</td>\n",
       "    </tr>\n",
       "    <tr>\n",
       "      <th>18</th>\n",
       "      <td>0</td>\n",
       "      <td>18</td>\n",
       "      <td>10</td>\n",
       "      <td>0.0</td>\n",
       "      <td>7.990379</td>\n",
       "      <td>6.0</td>\n",
       "      <td>8.919660</td>\n",
       "      <td>8.831857</td>\n",
       "      <td>-0.654707</td>\n",
       "      <td>-0.103912</td>\n",
       "      <td>-0.068761</td>\n",
       "      <td>-0.654707</td>\n",
       "      <td>-0.694742</td>\n",
       "      <td>-0.789690</td>\n",
       "    </tr>\n",
       "    <tr>\n",
       "      <th>19</th>\n",
       "      <td>0</td>\n",
       "      <td>19</td>\n",
       "      <td>10</td>\n",
       "      <td>0.0</td>\n",
       "      <td>7.990379</td>\n",
       "      <td>6.0</td>\n",
       "      <td>7.044822</td>\n",
       "      <td>8.048866</td>\n",
       "      <td>-0.654707</td>\n",
       "      <td>-0.118591</td>\n",
       "      <td>-0.072431</td>\n",
       "      <td>-0.654707</td>\n",
       "      <td>-0.792888</td>\n",
       "      <td>-0.831830</td>\n",
       "    </tr>\n",
       "  </tbody>\n",
       "</table>\n",
       "</div>"
      ],
      "text/plain": [
       "    Identifier  Period  Years of Education  Choice  Systematic Wage  \\\n",
       "0            0       0                  10     2.0         6.855149   \n",
       "1            0       1                  10     0.0         7.423946   \n",
       "2            0       2                  10     0.0         7.423946   \n",
       "3            0       3                  10     0.0         7.423946   \n",
       "4            0       4                  10     0.0         7.423946   \n",
       "5            0       5                  10     2.0         7.423946   \n",
       "6            0       6                  10     1.0         7.787468   \n",
       "7            0       7                  10     0.0         7.841832   \n",
       "8            0       8                  10     0.0         7.841832   \n",
       "9            0       9                  10     0.0         7.841832   \n",
       "10           0      10                  10     0.0         7.841832   \n",
       "11           0      11                  10     1.0         7.841832   \n",
       "12           0      12                  10     0.0         7.893611   \n",
       "13           0      13                  10     0.0         7.893611   \n",
       "14           0      14                  10     0.0         7.893611   \n",
       "15           0      15                  10     0.0         7.893611   \n",
       "16           0      16                  10     1.0         7.893611   \n",
       "17           0      17                  10     1.0         7.943055   \n",
       "18           0      18                  10     0.0         7.990379   \n",
       "19           0      19                  10     0.0         7.990379   \n",
       "\n",
       "    Period Wage N  Period Wage P  Period Wage F  Consumption Utility N  \\\n",
       "0             6.0       8.188784      15.014135              -0.654707   \n",
       "1             6.0       8.725563       5.065398              -0.654707   \n",
       "2             6.0       5.689242       8.746799              -0.654707   \n",
       "3             6.0       8.349554       4.796164              -0.654707   \n",
       "4             6.0       7.107834       4.972434              -0.654707   \n",
       "5             6.0       8.181864      16.784272              -0.654707   \n",
       "6             6.0      11.461648      11.878650              -0.654707   \n",
       "7             6.0       7.258882       8.760159              -0.654707   \n",
       "8             6.0       7.081287       5.600789              -0.654707   \n",
       "9             6.0       7.440079       5.851004              -0.654707   \n",
       "10            6.0       5.127194       6.310813              -0.654707   \n",
       "11            6.0       9.869309       8.760301              -0.654707   \n",
       "12            6.0       8.206376       9.966048              -0.654707   \n",
       "13            6.0       6.576798       4.780500              -0.654707   \n",
       "14            6.0       5.971733       5.353538              -0.654707   \n",
       "15            6.0       9.603423       4.040009              -0.654707   \n",
       "16            6.0      11.710488      10.760813              -0.654707   \n",
       "17            6.0      10.004341       6.078288              -0.654707   \n",
       "18            6.0       8.919660       8.831857              -0.654707   \n",
       "19            6.0       7.044822       8.048866              -0.654707   \n",
       "\n",
       "    Consumption Utility P  Consumption Utility F  Flow Utility N  \\\n",
       "0               -0.109008              -0.051085       -0.654707   \n",
       "1               -0.105200              -0.093875       -0.654707   \n",
       "2               -0.133668              -0.069135       -0.654707   \n",
       "3               -0.107827              -0.096790       -0.654707   \n",
       "4               -0.118001              -0.094854       -0.654707   \n",
       "5               -0.109059              -0.047994       -0.654707   \n",
       "6               -0.090299              -0.058246       -0.654707   \n",
       "7               -0.116620              -0.069076       -0.654707   \n",
       "8               -0.118249              -0.088739       -0.654707   \n",
       "9               -0.115021              -0.086593       -0.654707   \n",
       "10              -0.141686              -0.083001       -0.654707   \n",
       "11              -0.098188              -0.069075       -0.654707   \n",
       "12              -0.108877              -0.064263       -0.654707   \n",
       "13              -0.123246              -0.096968       -0.654707   \n",
       "14              -0.130090              -0.091011       -0.654707   \n",
       "15              -0.099701              -0.106551       -0.654707   \n",
       "16              -0.089219              -0.061560       -0.654707   \n",
       "17              -0.097444              -0.084765       -0.654707   \n",
       "18              -0.103912              -0.068761       -0.654707   \n",
       "19              -0.118591              -0.072431       -0.654707   \n",
       "\n",
       "    Flow Utility P  Flow Utility F  \n",
       "0        -0.728813       -0.586686  \n",
       "1        -0.703355       -1.078108  \n",
       "2        -0.893693       -0.793982  \n",
       "3        -0.720921       -1.111592  \n",
       "4        -0.788944       -1.089350  \n",
       "5        -0.729158       -0.551189  \n",
       "6        -0.603727       -0.668923  \n",
       "7        -0.779708       -0.793303  \n",
       "8        -0.790599       -1.019123  \n",
       "9        -0.769016       -0.994482  \n",
       "10       -0.947297       -0.953231  \n",
       "11       -0.656475       -0.793296  \n",
       "12       -0.727938       -0.738028  \n",
       "13       -0.824007       -1.113630  \n",
       "14       -0.869766       -1.045219  \n",
       "15       -0.666592       -1.223691  \n",
       "16       -0.596509       -0.706989  \n",
       "17       -0.651498       -0.973483  \n",
       "18       -0.694742       -0.789690  \n",
       "19       -0.792888       -0.831830  "
      ]
     },
     "execution_count": 7,
     "metadata": {},
     "output_type": "execute_result"
    }
   ],
   "source": [
    "data_frame_baseline.head(20)"
   ]
  },
  {
   "cell_type": "code",
   "execution_count": 19,
   "metadata": {},
   "outputs": [],
   "source": [
    "#Determine the observed wage given period choice\n",
    "def get_observed_wage (row):\n",
    "    if row['Choice'] == 2:\n",
    "        return row['Period Wage F']\n",
    "    elif row['Choice'] ==1:\n",
    "        return row['Period Wage P']\n",
    "    elif row['Choice'] ==0:\n",
    "        return row['Period Wage N']\n",
    "    else:\n",
    "        return np.nan\n",
    "\n",
    "# Add to data frame\n",
    "data_frame_baseline['Wage Observed'] = data_frame_baseline.apply(\n",
    "    lambda row: get_observed_wage (row),axis=1\n",
    ")\n",
    "\n",
    "# Determine the education level\n",
    "def get_educ_level(row):\n",
    "    if row[\"Years of Education\"] >= 10 and row[\"Years of Education\"] < 12:\n",
    "        return 0\n",
    "    elif row[\"Years of Education\"] >= 12 and row[\"Years of Education\"] < 16:\n",
    "        return 1\n",
    "    elif row[\"Years of Education\"] >= 16:\n",
    "        return 2\n",
    "    else:\n",
    "        return np.nan\n",
    "\n",
    "data_frame_baseline[\"Educ Level\"] = data_frame_baseline.apply(\n",
    "    lambda row: get_educ_level(row), axis=1\n",
    ")"
   ]
  },
  {
   "cell_type": "markdown",
   "metadata": {},
   "source": [
    "Descriptive statistics to look at:\n",
    "- average part-time, full-time and nonemployment rate - ideally close to population rates\n",
    "- frequency of each choice per period - ideally more often part-time in early periods, more full-time in later periods\n",
    "- frequency of each choice over all periods for individuals with different levels of education - ideally, lower educated more often unemployed and in part-time jobs\n",
    "- average period wages over all individuals - series for all periods\n",
    "- average period individuals over all individuals - series for all periods"
   ]
  },
  {
   "cell_type": "code",
   "execution_count": 8,
   "metadata": {},
   "outputs": [
    {
     "data": {
      "text/plain": [
       "2.0    0.359476\n",
       "0.0    0.333541\n",
       "1.0    0.306983\n",
       "Name: Choice, dtype: float64"
      ]
     },
     "execution_count": 8,
     "metadata": {},
     "output_type": "execute_result"
    },
    {
     "data": {
      "image/png": "[encoded data removed]",
      "text/plain": [
       "<Figure size 432x288 with 1 Axes>"
      ]
     },
     "metadata": {
      "needs_background": "light"
     },
     "output_type": "display_data"
    }
   ],
   "source": [
    "# Average non-employment, part-time, and full-time rates over all periods and individuals\n",
    "data_frame_baseline['Choice'].value_counts(normalize=True).plot(kind = 'bar')\n",
    "data_frame_baseline['Choice'].value_counts(normalize=True)"
   ]
  },
  {
   "cell_type": "code",
   "execution_count": 9,
   "metadata": {},
   "outputs": [
    {
     "data": {
      "text/plain": [
       "<matplotlib.axes._subplots.AxesSubplot at 0x61f52e080>"
      ]
     },
     "execution_count": 9,
     "metadata": {},
     "output_type": "execute_result"
    },
    {
     "data": {
      "image/png": "[encoded data removed]",
      "text/plain": [
       "<Figure size 432x288 with 1 Axes>"
      ]
     },
     "metadata": {
      "needs_background": "light"
     },
     "output_type": "display_data"
    }
   ],
   "source": [
    "# Average non-employment, part-time, and full-time rates per period\n",
    "data_frame_baseline.groupby(['Period'])['Choice'].value_counts(normalize=True).unstack().plot(kind = 'bar', stacked = True)"
   ]
  },
  {
   "cell_type": "markdown",
   "metadata": {},
   "source": [
    "As far as the evolution of choices over all agents and periods is concerned, we first observe a declining tendency of individuals to be unemployed as desired in a perfectly calibrated simulation. Second, individuals in our  simulation tend to choose full-time and non-employment less often in the later periods of the model. Rates of part-time employment increase for the same period. "
   ]
  },
  {
   "cell_type": "code",
   "execution_count": 10,
   "metadata": {},
   "outputs": [
    {
     "data": {
      "text/plain": [
       "<matplotlib.axes._subplots.AxesSubplot at 0x61f4cc3c8>"
      ]
     },
     "execution_count": 10,
     "metadata": {},
     "output_type": "execute_result"
    },
    {
     "data": {
      "image/png": "[encoded data removed]",
      "text/plain": [
       "<Figure size 432x288 with 1 Axes>"
      ]
     },
     "metadata": {
      "needs_background": "light"
     },
     "output_type": "display_data"
    }
   ],
   "source": [
    "# Average non-employment, part-time, and full-time rates for individuals with different level of education\n",
    "data_frame_baseline.groupby(['Years of Education'])['Choice'].value_counts(normalize=True).unstack().plot(kind = 'bar', stacked = True)"
   ]
  },
  {
   "cell_type": "markdown",
   "metadata": {},
   "source": [
    "As should be expected, the higher the education level of the individuals the lower the observed."
   ]
  },
  {
   "cell_type": "code",
   "execution_count": 14,
   "metadata": {},
   "outputs": [
    {
     "data": {
      "text/plain": [
       "<matplotlib.legend.Legend at 0x61f58d748>"
      ]
     },
     "execution_count": 14,
     "metadata": {},
     "output_type": "execute_result"
    },
    {
     "data": {
      "image/png": "[encoded data removed]",
      "text/plain": [
       "<Figure size 432x288 with 1 Axes>"
      ]
     },
     "metadata": {
      "needs_background": "light"
     },
     "output_type": "display_data"
    }
   ],
   "source": [
    "# Average wage for each period and choice\n",
    "fig,ax = plt.subplots()\n",
    "\n",
    "# Generate x axes values\n",
    "period = np.arange(1,31)\n",
    "\n",
    "# Generate plot lines\n",
    "ax.plot(period,\n",
    "        data_frame_baseline[data_frame_baseline['Choice'] == 2].groupby(['Period'])['Period Wage F'].mean(),\n",
    "        color='green', label = 'F')\n",
    "ax.plot(period,\n",
    "        data_frame_baseline[data_frame_baseline['Choice'] == 1].groupby(['Period'])['Period Wage P'].mean(),\n",
    "        color='orange', label = 'P')\n",
    "ax.plot(period,\n",
    "        data_frame_baseline[data_frame_baseline['Choice'] == 0].groupby(['Period'])['Period Wage N'].mean(), \n",
    "        color='blue', label = 'N')\n",
    "\n",
    "# Plot settings\n",
    "ax.set_xlabel(\"period\")\n",
    "ax.set_ylabel(\"wage\")\n",
    "ax.legend(loc='best')"
   ]
  },
  {
   "cell_type": "markdown",
   "metadata": {},
   "source": [
    "The period wage of non-employment actually refers to the unemployment benefits individuals receive. The amount of the benefits is constant over time. Part-time and full-time wages rise as individuals gather more experience."
   ]
  },
  {
   "cell_type": "code",
   "execution_count": 20,
   "metadata": {},
   "outputs": [
    {
     "data": {
      "text/plain": [
       "<matplotlib.axes._subplots.AxesSubplot at 0x620db0be0>"
      ]
     },
     "execution_count": 20,
     "metadata": {},
     "output_type": "execute_result"
    },
    {
     "data": {
      "image/png": "[encoded data removed]",
      "text/plain": [
       "<Figure size 432x288 with 1 Axes>"
      ]
     },
     "metadata": {
      "needs_background": "light"
     },
     "output_type": "display_data"
    }
   ],
   "source": [
    "# Average wages by period\n",
    "data_frame_baseline.groupby(['Period'])['Wage Observed'].mean().plot()"
   ]
  },
  {
   "cell_type": "markdown",
   "metadata": {},
   "source": [
    "Comparative Statics\n",
    "------------------------"
   ]
  },
  {
   "cell_type": "markdown",
   "metadata": {},
   "source": [
    "In the following, we discuss some comparative statics of the model.\n",
    "\n",
    "While changing other parameter values we wish to assume that the parameters central to the part-time penalty phenomenon studied in Blundell (2016) stay the same as in the benchmark specification:\n",
    "- part-time experience accumulation g_s1,2,3\n",
    "- experience depreciation delta\n",
    "\n",
    "Comparative statics:\n",
    "\n",
    "Parameters in the systematic wage govern the choice between employment (either part-time, or full-time) and nonemployment. They do not determine the choice between part-time and full-time employment since the systematic wage is equal for both options.\n",
    "- constnat in wage process gamma_0: lower/higher value of the coefficient implies that other components such as accumulated work experience and the productivity shock are relatively more/less important in determining the choice between employment and nonemployment. Decreasing the constant for individuals of a certain education level, e.g., low, results in these individuals choosing nonemployment more often.\n",
    "- return to experience gamma_1: lower value of the coefficient implies that accumulated work experience is less relevant in determining the wage in comparison to other factors such as the constant or the productivity shock. Higher coefficients should lead to agents persistently choosing employment versus non-employment.\n",
    "\n",
    "The productivity shock:\n",
    "- productivity shock variances - the higher the variances, the more switching between occupational alternatives.\n",
    "\n",
    "Risk aversion:\n",
    "- risk aversion parameter mu: the more negative the risk aversion parameter, the more eager are agents to ensure themselves against productivity shoks through accumulation of experience. Therefore, lower values of the parameter are associated with higher rates of full-time employment.\n",
    "\n",
    "The labor disutility parameters directly influence:\n",
    "- benefits - for higher benefits individuals of all education levels would choose non-employment more often\n",
    "- labor disutility for part-time theta_p - for a higher coefficient, individuals of all education levels would choose to work part-time more often\n",
    "- labor disutility for full-time theta_f - for a higher coefficient, individuals of all education levels would choose to work part-time more often"
   ]
  },
  {
   "cell_type": "markdown",
   "metadata": {},
   "source": [
    "Finally, we illustrate one of the changes discussed above. In the alternative specifications the return to experience coefficient gamma_1 for the individuals with medium level of educations is increased from 0.157 to 0.195. As a result, experience accumulation matters more in the utility maximization. Therefore, individuals with medium level of education choose to be employed more often. Consequently, also aggregate levels of nonemployment are lower in the model."
   ]
  },
  {
   "cell_type": "code",
   "execution_count": 23,
   "metadata": {},
   "outputs": [],
   "source": [
    "data_frame_alternative = soepy.simulate('toy_model_init_file_01_1000.yml')"
   ]
  },
  {
   "cell_type": "code",
   "execution_count": 24,
   "metadata": {},
   "outputs": [
    {
     "data": {
      "text/plain": [
       "[Years of Education  Choice\n",
       " 10                  0.0       0.626646\n",
       "                     2.0       0.231452\n",
       "                     1.0       0.141902\n",
       " 11                  2.0       0.414986\n",
       "                     1.0       0.396769\n",
       "                     0.0       0.188245\n",
       " 12                  2.0       0.486226\n",
       "                     1.0       0.456710\n",
       "                     0.0       0.057064\n",
       " Name: Choice, dtype: float64, Years of Education  Choice\n",
       " 10                  0.0       0.625914\n",
       "                     2.0       0.231661\n",
       "                     1.0       0.142424\n",
       " 11                  2.0       0.352418\n",
       "                     0.0       0.334851\n",
       "                     1.0       0.312730\n",
       " 12                  2.0       0.486226\n",
       "                     1.0       0.456710\n",
       "                     0.0       0.057064\n",
       " Name: Choice, dtype: float64]"
      ]
     },
     "execution_count": 24,
     "metadata": {},
     "output_type": "execute_result"
    }
   ],
   "source": [
    "# Average non-employment, part-time, and full-time rates for individuals with different level of education\n",
    "[data_frame_alternative.groupby(['Years of Education'])['Choice'].value_counts(normalize=True),\n",
    "data_frame_baseline.groupby(['Years of Education'])['Choice'].value_counts(normalize=True)]"
   ]
  },
  {
   "cell_type": "code",
   "execution_count": 25,
   "metadata": {},
   "outputs": [
    {
     "data": {
      "text/plain": [
       "<matplotlib.axes._subplots.AxesSubplot at 0x625f22588>"
      ]
     },
     "execution_count": 25,
     "metadata": {},
     "output_type": "execute_result"
    },
    {
     "data": {
      "image/png": "[encoded data removed]",
      "text/plain": [
       "<Figure size 432x288 with 1 Axes>"
      ]
     },
     "metadata": {
      "needs_background": "light"
     },
     "output_type": "display_data"
    }
   ],
   "source": [
    "# Average non-employment, part-time, and full-time rates for individuals with different level of education\n",
    "data_frame_alternative.groupby(['Years of Education'])['Choice'].value_counts(normalize=True).unstack().plot(kind = 'bar', stacked = True)"
   ]
  },
  {
   "cell_type": "code",
   "execution_count": 26,
   "metadata": {},
   "outputs": [
    {
     "data": {
      "text/plain": [
       "2.0    0.379334\n",
       "1.0    0.333575\n",
       "0.0    0.287091\n",
       "Name: Choice, dtype: float64"
      ]
     },
     "execution_count": 26,
     "metadata": {},
     "output_type": "execute_result"
    },
    {
     "data": {
      "image/png": "[encoded data removed]",
      "text/plain": [
       "<Figure size 432x288 with 1 Axes>"
      ]
     },
     "metadata": {
      "needs_background": "light"
     },
     "output_type": "display_data"
    }
   ],
   "source": [
    "# Average non-employment, part-time, and full-time rates over all periods and individuals\n",
    "data_frame_alternative['Choice'].value_counts(normalize=True).plot(kind = 'bar')\n",
    "data_frame_alternative['Choice'].value_counts(normalize=True)"
   ]
  },
  {
   "cell_type": "code",
   "execution_count": null,
   "metadata": {},
   "outputs": [],
   "source": []
  }
 ],
 "metadata": {
  "kernelspec": {
   "display_name": "Python [conda env:soepy]",
   "language": "python",
   "name": "conda-env-soepy-py"
  },
  "language_info": {
   "codemirror_mode": {
    "name": "ipython",
    "version": 3
   },
   "file_extension": ".py",
   "mimetype": "text/x-python",
   "name": "python",
   "nbconvert_exporter": "python",
   "pygments_lexer": "ipython3",
   "version": "3.7.2"
  }
 },
 "nbformat": 4,
 "nbformat_minor": 2
}
