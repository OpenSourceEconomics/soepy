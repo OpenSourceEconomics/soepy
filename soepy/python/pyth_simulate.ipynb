{
 "cells": [
  {
   "cell_type": "markdown",
   "metadata": {},
   "source": [
    "As a final product of this notebook we wish to obtain a simulated data set given prepsecified model parameters."
   ]
  },
  {
   "cell_type": "code",
   "execution_count": 1,
   "metadata": {},
   "outputs": [],
   "source": [
    "import pickle\n",
    "import numpy as np\n",
    "import math"
   ]
  },
  {
   "cell_type": "markdown",
   "metadata": {},
   "source": [
    "As a first step, we supply all necessary inputs for the functionality."
   ]
  },
  {
   "cell_type": "markdown",
   "metadata": {},
   "source": [
    "We import the model specification parameters and externally defined constants here."
   ]
  },
  {
   "cell_type": "code",
   "execution_count": 2,
   "metadata": {},
   "outputs": [],
   "source": [
    "# Execute entire file and make all variables/functions/classes\n",
    "# available for further use\n",
    "from ipynb.fs.full.model_spec import (num_periods,\n",
    "                                      num_choices,\n",
    "                                      educ_max,\n",
    "                                      educ_min,\n",
    "                                      educ_range,\n",
    "                                      mu,\n",
    "                                      delta,\n",
    "                                      optim_paras,\n",
    "                                      num_draws_emax,\n",
    "                                      num_agents_sim,\n",
    "                                      seed_emax,\n",
    "                                      seed_sim,\n",
    "                                      shocks_cov)\n",
    "\n",
    "# Import specified definitions only from given notebook\n",
    "import ipynb.fs\n",
    "from .defs.shared_constants import MISSING_INT, MISSING_FLOAT\n",
    "from .defs.shared_auxiliary import draw_disturbances"
   ]
  },
  {
   "cell_type": "markdown",
   "metadata": {},
   "source": [
    "In a final version of soepy, the function pyth_create_state_space is called before the backward_induction procedure. Here, we import the final output of the pyth_create_state_space function."
   ]
  },
  {
   "cell_type": "code",
   "execution_count": 3,
   "metadata": {},
   "outputs": [],
   "source": [
    "# Import the final output of pyth_create_state_space, args\n",
    "# In the modular implementation pyth_create_state_space will be called by by pyth_solve\n",
    "# pyth_solve is executed before pyth_simulate\n",
    "file_name = \"args_file.pkl\"\n",
    "# Open the file for reading\n",
    "file_object = open(file_name,'rb')  \n",
    "# load the object from the file into var args\n",
    "args = pickle.load(file_object)"
   ]
  },
  {
   "cell_type": "code",
   "execution_count": 4,
   "metadata": {},
   "outputs": [],
   "source": [
    "# Unpack objects from agrs\n",
    "states_all, states_number_period, mapping_states_index, max_states_period = args[0], args[1], args[2], args[3]"
   ]
  },
  {
   "cell_type": "markdown",
   "metadata": {},
   "source": [
    "In a final version of soepy, also the function pyth_backward_induction is called before the simulation procedure. Here, we import the final output of the pyth_backward_induction function."
   ]
  },
  {
   "cell_type": "code",
   "execution_count": 5,
   "metadata": {},
   "outputs": [],
   "source": [
    "# Import the final output of pyth_backward_induction, periods_emax\n",
    "# In the modular implementation pyth_create_state_space will be called by by pyth_solve\n",
    "# pyth_solve is executed before pyth_simulate\n",
    "file_name = \"periods_emax_file.pkl\"\n",
    "# Open the file for reading\n",
    "file_object = open(file_name,'rb')  \n",
    "# load the object from the file into var args\n",
    "periods_emax = pickle.load(file_object)"
   ]
  },
  {
   "cell_type": "markdown",
   "metadata": {},
   "source": [
    "Next, we need to genrate draws of the error term distribution. There are two types of draws which come from the same distribution. \n",
    "\n",
    "First, we need draws which let us numerically integrate out the error term in a Monte Carlo simulation procedure. This is necessary for computing the continuation values and, ultimately, the value functions and the model's solution. Integating out the error term represents the process in which individuals in the model form expectations about the future. Assuming rational expectations and a known error term distribution up to its parameters, individuals take the possible realization of the error terms into account by computing the expected continuation values over the distribution of the errors. For every period we simmulate num_draws_emax draws from the error term distribution. This has been done in the backward induction procedure.\n",
    "\n",
    "Second, we need another set of draws to represent our simulated reality. In our model, at the beginning of every new period, individuals are hit by a productivity shock. They are aware of the realization of the shock when making their labor supply choice for the period. For every period, we simmulate num_agents_sim draws of the error term distribution."
   ]
  },
  {
   "cell_type": "code",
   "execution_count": 6,
   "metadata": {},
   "outputs": [],
   "source": [
    "# Create draws for simulated sample\n",
    "draws_sim = draw_disturbances((num_periods, num_agents_sim), shocks_cov, seed_sim)"
   ]
  },
  {
   "cell_type": "markdown",
   "metadata": {},
   "source": [
    "Then, we need to define additional function called in the loop to determine agents choices. "
   ]
  },
  {
   "cell_type": "code",
   "execution_count": 7,
   "metadata": {},
   "outputs": [],
   "source": [
    "def calculate_wage_systematic(educ_level, exp_p, exp_f, optim_paras):\n",
    "    \"\"\"Calculate systematic wages, i.e. net of shock, for specified state.\"\"\"\n",
    "    \n",
    "    # Initialize container\n",
    "    wage_systematic = np.nan\n",
    "    \n",
    "    # Construct wage components\n",
    "    gamma_s0 = np.dot(educ_level, optim_paras[0:3]) \n",
    "    gamma_s1 = np.dot(educ_level, optim_paras[3:6])\n",
    "    period_exp_sum = exp_p * np.dot(educ_level, optim_paras[6:9]) + exp_f \n",
    "    depreciation = 1 - np.dot(educ_level, optim_paras[9:12])\n",
    "    \n",
    "    # Calculate wage in the given state\n",
    "    period_exp_total = period_exp_sum * depreciation + 1\n",
    "    returns_to_exp = gamma_s1 * period_exp_total\n",
    "    wage_systematic = np.exp(gamma_s0)*returns_to_exp\n",
    "    \n",
    "    # Return function output\n",
    "    return wage_systematic # This is a scalar, equal for all choices"
   ]
  },
  {
   "cell_type": "code",
   "execution_count": 8,
   "metadata": {},
   "outputs": [],
   "source": [
    "def calculate_period_wages(wage_systematic, draws):\n",
    "    \"\"\"Calculate wages for each choice including choice specific productivty shock.\"\"\"\n",
    "    \n",
    "    # Initialize container\n",
    "    period_wages = np.tile(np.nan, num_choices)\n",
    "    \n",
    "    # Take the exponential of the disturbances\n",
    "    exp_draws = np.exp(draws)\n",
    "    \n",
    "    # Calculate choice specific wages including productivity shock\n",
    "    period_wages = wage_systematic * exp_draws\n",
    "    \n",
    "    # Return function output\n",
    "    return period_wages # This is a vector, difference between choices comes from disturbance term."
   ]
  },
  {
   "cell_type": "markdown",
   "metadata": {},
   "source": [
    "Note:\n",
    "\n",
    "In the toy model, consumption in any period is zero if the individual chooses non-employment. This is the case because consumption is simply the product of the period wage and the hours worked, and the hours worked in the case of non-employment are equal to zero. The calculation of the 1st part of the utility function related to consumption involves taking period consumption to the negative pover mu. In the programm, this would yield -inf. To avoid this complication, here the consumption utility of non-employment is normalized to zero."
   ]
  },
  {
   "cell_type": "code",
   "execution_count": 9,
   "metadata": {},
   "outputs": [],
   "source": [
    "def calculate_consumption_utilities(period_wages):\n",
    "    \"\"\"Calculate the first part of the period utilities related to consumption\"\"\"\n",
    "    \n",
    "    # Initialize container\n",
    "    consumption_utilities = np.tile(np.nan, num_choices)\n",
    "    \n",
    "    # Define hours array, possibly move to another file\n",
    "    hours = np.array([0, 18, 38])\n",
    "    \n",
    "    # Calculate choice specific wages including productivity shock\n",
    "    consumption_utilities = hours * period_wages\n",
    "    consumption_utilities[1]  = consumption_utilities[1]**mu/mu\n",
    "    consumption_utilities[2]  = consumption_utilities[2]**mu/mu\n",
    "    \n",
    "    # Return function output\n",
    "    return consumption_utilities"
   ]
  },
  {
   "cell_type": "code",
   "execution_count": 10,
   "metadata": {},
   "outputs": [],
   "source": [
    "def calculate_total_utilities(consumption_utilities, optim_paras):\n",
    "    \"\"\"Calculate total flow utility for all choices.\"\"\"\n",
    "    \n",
    "    # Initialize container for utilities at state space point and period\n",
    "    total_utilities = np.tile(np.nan, num_choices)\n",
    "    \n",
    "    # Calculate U(.) for the three available choices\n",
    "    U_ = np.array([math.exp(0.00),  math.exp(optim_paras[12]), math.exp(optim_paras[13])])\n",
    "    \n",
    "    # Calculate utilities for the avaibale joices N, P, F\n",
    "    total_utilities = consumption_utilities * U_\n",
    "    \n",
    "    # Return function_output\n",
    "    return total_utilities"
   ]
  },
  {
   "cell_type": "markdown",
   "metadata": {},
   "source": [
    "test_total_utilities = calculate_total_utilities(test_consumption_utilities, optim_paras)\n",
    "test_total_utilities"
   ]
  },
  {
   "cell_type": "code",
   "execution_count": 11,
   "metadata": {},
   "outputs": [],
   "source": [
    "def calculate_utilities(educ_level, exp_p, exp_f, optim_paras, draws):\n",
    "    \"\"\"Calculate flow utilities for all choices given state, period, and shocks.\"\"\"\n",
    "    \n",
    "    # Calculate wage net of period productivity shock\n",
    "    wage_systematic = calculate_wage_systematic(educ_level, exp_p, exp_f, optim_paras)\n",
    "    \n",
    "    # Calculate period wages for the three choices includings chocks' realizations\n",
    "    period_wages = calculate_period_wages(wage_systematic, draws)\n",
    "    \n",
    "    # Calculate 1st part of the period flow utility related to consumption\n",
    "    consumption_utilities = calculate_consumption_utilities(period_wages)\n",
    "    \n",
    "    # Calculate total utility by multiplying U(.) component\n",
    "    utilities = calculate_total_utilities(consumption_utilities, optim_paras)\n",
    "    \n",
    "    # Return function output\n",
    "    return utilities"
   ]
  },
  {
   "cell_type": "code",
   "execution_count": 12,
   "metadata": {},
   "outputs": [],
   "source": [
    "def calculate_continuation_values (period, educ_years_idx, exp_p, exp_f):\n",
    "    \"\"\"Obtain continuation values for all choices.\"\"\"\n",
    "\n",
    "    # Initialize container for continuation values\n",
    "    continuation_values = np.tile(MISSING_FLOAT, num_choices)\n",
    "\n",
    "    if period != (num_periods - 1):\n",
    "\n",
    "        # Choice: Non-employment\n",
    "        # Create index for extracting the continuation value\n",
    "        future_idx = mapping_states_index[period + 1, educ_years_idx, 0, exp_p, exp_f]\n",
    "        # Extract continuation value\n",
    "        continuation_values[0] = periods_emax[period + 1, future_idx] \n",
    "\n",
    "        # Choice: Part-time\n",
    "        future_idx = mapping_states_index[period + 1, educ_years_idx, 1, exp_p + 1, exp_f]\n",
    "        continuation_values[1] = periods_emax[period + 1, future_idx]\n",
    "\n",
    "        # Choice: Full-time\n",
    "        future_idx = mapping_states_index[period + 1, educ_years_idx, 2, exp_p, exp_f + 1]\n",
    "        continuation_values[2] = periods_emax[period + 1, future_idx]\n",
    "    \n",
    "    else:\n",
    "        continuation_values = np.tile(0.0, num_choices)\n",
    "        \n",
    "    # Record function output\n",
    "    return continuation_values"
   ]
  },
  {
   "cell_type": "code",
   "execution_count": 13,
   "metadata": {},
   "outputs": [],
   "source": [
    "def extract_individual_covariates (i):\n",
    "    \"\"\"Constructs additional covariates given agent indicator.\"\"\"\n",
    "    \n",
    "    # Determine education level given number of years of education\n",
    "    # Would it be more efficient to do this somewhere else?\n",
    "\n",
    "    # Unpack state space components\n",
    "    educ_years_i = educ_years[i]\n",
    "\n",
    "    # Extract education information\n",
    "    if (educ_years_i <= 10):\n",
    "        educ_level = [1,0,0]\n",
    "\n",
    "    elif (educ_years_i > 10) and (educ_years_i <= 12):\n",
    "        educ_level = [0,1,0]\n",
    "\n",
    "    else:\n",
    "        educ_level = [0,0,1]\n",
    "\n",
    "    educ_years_idx = educ_years_i - educ_min\n",
    "    \n",
    "    # Return function output\n",
    "    return educ_years_i, educ_level, educ_years_idx"
   ]
  },
  {
   "cell_type": "markdown",
   "metadata": {},
   "source": [
    "Finally, we need to simulate a sample of initial conditions. In this example, we need to assing a value for the years of education to every agent whose life-cycle we want to simulate."
   ]
  },
  {
   "cell_type": "code",
   "execution_count": 14,
   "metadata": {},
   "outputs": [],
   "source": [
    "educ_years = list(range(educ_min, educ_max + 1))\n",
    "educ_years = np.random.choice(educ_years, num_agents_sim)"
   ]
  },
  {
   "cell_type": "markdown",
   "metadata": {},
   "source": [
    "Now we can simulate the model life-cycle experiences of the individuals."
   ]
  },
  {
   "cell_type": "code",
   "execution_count": 15,
   "metadata": {},
   "outputs": [],
   "source": [
    "# Start count over all simulations/row (number of agents times number of periods)\n",
    "count = 0\n",
    "\n",
    "# Initialize container for the final output\n",
    "num_columns = 3 # count of the information units we wish to record\n",
    "dataset = np.tile(MISSING_FLOAT, (num_agents_sim*num_periods, num_columns))\n",
    "\n",
    "# Loop over all agents\n",
    "for i in range(num_agents_sim):\n",
    "    \n",
    "    \n",
    "    # Construct additional education information\n",
    "    educ_years_i, educ_level, educ_years_idx = extract_individual_covariates (i)\n",
    "    \n",
    "    # Extract the indicator of the initial state for the individual\n",
    "    # depending on the individuals initial condition\n",
    "    initial_state_index = mapping_states_index[educ_years_idx, educ_years_idx, 0, 0, 0]\n",
    "    \n",
    "    # Assign the initial state as current state\n",
    "    current_state = states_all[educ_years_idx, initial_state_index, :].copy()\n",
    "    \n",
    "    # Loop over all remaining\n",
    "    for period in range(num_periods):\n",
    "        \n",
    "        # Extract state space components\n",
    "        choice_lagged, exp_p, exp_f = current_state[1], current_state[2], current_state[3]\n",
    "        \n",
    "        # Look up the indicator for the current state\n",
    "        k = mapping_states_index[period, educ_years_i - educ_min, choice_lagged, exp_p, exp_f]\n",
    "        \n",
    "        # Record agent identifier and current period number in the dataset\n",
    "        dataset[count, :2] = i, period\n",
    "        \n",
    "        # Calculate choice specific value functions\n",
    "        # for individual, period and state space point\n",
    "        \n",
    "        # Extract the error term draws corresponding to\n",
    "        # period number and individual\n",
    "        corresponding_draws = draws_sim[period, i, :]\n",
    "        \n",
    "        # Calculate correspongind flow utilities\n",
    "        flow_utilities = calculate_utilities(educ_level, exp_p, exp_f, optim_paras, corresponding_draws)\n",
    "        \n",
    "        # Obtain continuation values for all choices\n",
    "        continuation_values = calculate_continuation_values(period, educ_years_idx, exp_p, exp_f)\n",
    "        \n",
    "        # Calculate total values for all choices\n",
    "        value_functions = flow_utilities + delta * continuation_values\n",
    "        \n",
    "        # Determine choice as option with highest choice specific value function\n",
    "        max_idx = np.argmax(value_functions)\n",
    "        \n",
    "        \n",
    "        # Record output\n",
    "        # Record agent identifier, period number, and choice\n",
    "        dataset[count, :] = i, period, max_idx\n",
    "        \n",
    "        \n",
    "        # Update state space component experience\n",
    "        current_state[max_idx + 1] += 1\n",
    "        \n",
    "        # Update state space component choice_lagged\n",
    "        current_state[1] = max_idx\n",
    "        \n",
    "        # Update simulation/row count\n",
    "        count += 1"
   ]
  }
 ],
 "metadata": {
  "kernelspec": {
   "display_name": "Python 3",
   "language": "python",
   "name": "python3"
  },
  "language_info": {
   "codemirror_mode": {
    "name": "ipython",
    "version": 3
   },
   "file_extension": ".py",
   "mimetype": "text/x-python",
   "name": "python",
   "nbconvert_exporter": "python",
   "pygments_lexer": "ipython3",
   "version": "3.7.0"
  }
 },
 "nbformat": 4,
 "nbformat_minor": 2
}
