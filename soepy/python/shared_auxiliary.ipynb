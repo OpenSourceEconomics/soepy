{
 "cells": [
  {
   "cell_type": "code",
   "execution_count": 1,
   "metadata": {},
   "outputs": [],
   "source": [
    "import numpy as np"
   ]
  },
  {
   "cell_type": "code",
   "execution_count": 2,
   "metadata": {},
   "outputs": [],
   "source": [
    "def draw_disturbances (num_draws, shocks_cov, seed):\n",
    "    \"\"\"Creates desired number of draws of a multivariate standard normal distribution.\"\"\"\n",
    "    \n",
    "    # Set seed\n",
    "    np.random.seed(seed)\n",
    "    \n",
    "    # Input parameters of the distribution\n",
    "    mean = [0, 0, 0]\n",
    "    shocks_cov_matrix = [[shocks_cov[0], 0, 0], [0, shocks_cov[1], 0], [0, 0, shocks_cov[2]]]\n",
    "    \n",
    "    # Create draws from the standard normal distribution\n",
    "    draws = np.random.multivariate_normal(mean, shocks_cov_matrix, num_draws)\n",
    "    \n",
    "    # Return function output\n",
    "    return draws"
   ]
  }
 ],
 "metadata": {
  "kernelspec": {
   "display_name": "Python 3",
   "language": "python",
   "name": "python3"
  },
  "language_info": {
   "codemirror_mode": {
    "name": "ipython",
    "version": 3
   },
   "file_extension": ".py",
   "mimetype": "text/x-python",
   "name": "python",
   "nbconvert_exporter": "python",
   "pygments_lexer": "ipython3",
   "version": "3.7.0"
  }
 },
 "nbformat": 4,
 "nbformat_minor": 2
}
