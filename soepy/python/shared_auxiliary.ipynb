{
 "cells": [
  {
   "cell_type": "code",
   "execution_count": 1,
   "metadata": {},
   "outputs": [],
   "source": [
    "import numpy as np"
   ]
  },
  {
   "cell_type": "code",
   "execution_count": 2,
   "metadata": {},
   "outputs": [],
   "source": [
    "def draw_disturbances (num_draws, shocks_cov, seed):\n",
    "    \"\"\"Creates desired number of draws of a multivariate standard normal distribution.\"\"\"\n",
    "    \n",
    "    # Set seed\n",
    "    np.random.seed(seed)\n",
    "    \n",
    "    # Input parameters of the distribution\n",
    "    mean = [0, 0, 0]\n",
    "    shocks_cov_matrix = [[shocks_cov[0], 0, 0], [0, shocks_cov[1], 0], [0, 0, shocks_cov[2]]]\n",
    "    \n",
    "    # Create draws from the standard normal distribution\n",
    "    draws = np.random.multivariate_normal(mean, shocks_cov_matrix, num_draws)\n",
    "    \n",
    "    # Return function output\n",
    "    return draws"
   ]
  },
  {
   "cell_type": "code",
   "execution_count": 4,
   "metadata": {},
   "outputs": [],
   "source": [
    "def replace_missing_values (arguments):\n",
    "    \"\"\"Replace MISSING_FLOAT with NAN.\"\"\"\n",
    "    \n",
    "    # Antibugging\n",
    "    assert isinstance(arguments, tuple) or isinstance(arguments, np.ndarray)\n",
    "\n",
    "    if isinstance(arguments, np.ndarray):\n",
    "        arguments = (arguments,)\n",
    "\n",
    "    rslt = tuple()\n",
    "\n",
    "    for argument in arguments:\n",
    "        \n",
    "        # Transform to float array to evaluate missing values\n",
    "        argument_internal = np.asfarray(argument)\n",
    "\n",
    "        # Determine missing values\n",
    "        is_missing = argument_internal == MISSING_FLOAT\n",
    "        if np.any(is_missing):\n",
    "            # Replace missing values\n",
    "            argument = np.asfarray(argument)\n",
    "            argument[is_missing] = np.nan\n",
    "\n",
    "        rslt += (argument,)\n",
    "\n",
    "    # Align interface\n",
    "    if len(rslt) == 1:\n",
    "        rslt = rslt[0]\n",
    "\n",
    "    # Function output\n",
    "    return rslt"
   ]
  }
 ],
 "metadata": {
  "kernelspec": {
   "display_name": "Python 3",
   "language": "python",
   "name": "python3"
  },
  "language_info": {
   "codemirror_mode": {
    "name": "ipython",
    "version": 3
   },
   "file_extension": ".py",
   "mimetype": "text/x-python",
   "name": "python",
   "nbconvert_exporter": "python",
   "pygments_lexer": "ipython3",
   "version": "3.7.0"
  }
 },
 "nbformat": 4,
 "nbformat_minor": 2
}
