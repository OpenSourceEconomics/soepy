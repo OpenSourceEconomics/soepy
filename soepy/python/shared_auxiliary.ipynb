{
 "cells": [
  {
   "cell_type": "markdown",
   "metadata": {},
   "source": [
    "NOTE: REMOVE MISSING FLOAT FROM INSIDE THE calculate_continuation_values function"
   ]
  },
  {
   "cell_type": "code",
   "execution_count": 1,
   "metadata": {},
   "outputs": [],
   "source": [
    "import numpy as np\n",
    "import math"
   ]
  },
  {
   "cell_type": "code",
   "execution_count": 2,
   "metadata": {},
   "outputs": [],
   "source": [
    "def draw_disturbances (num_draws, shocks_cov, seed):\n",
    "    \"\"\"Creates desired number of draws of a multivariate standard normal distribution.\"\"\"\n",
    "    \n",
    "    # Set seed\n",
    "    np.random.seed(seed)\n",
    "    \n",
    "    # Input parameters of the distribution\n",
    "    mean = [0, 0, 0]\n",
    "    shocks_cov_matrix = [[shocks_cov[0], 0, 0], [0, shocks_cov[1], 0], [0, 0, shocks_cov[2]]]\n",
    "    \n",
    "    # Create draws from the standard normal distribution\n",
    "    draws = np.random.multivariate_normal(mean, shocks_cov_matrix, num_draws)\n",
    "    \n",
    "    # Return function output\n",
    "    return draws"
   ]
  },
  {
   "cell_type": "code",
   "execution_count": 3,
   "metadata": {},
   "outputs": [],
   "source": [
    "def calculate_wage_systematic(educ_level, exp_p, exp_f, optim_paras):\n",
    "    \"\"\"Calculate systematic wages, i.e. net of shock, for specified state.\"\"\"\n",
    "    \n",
    "    # Initialize container\n",
    "    wage_systematic = np.nan\n",
    "    \n",
    "    # Construct wage components\n",
    "    gamma_s0 = np.dot(educ_level, optim_paras[0:3]) \n",
    "    gamma_s1 = np.dot(educ_level, optim_paras[3:6])\n",
    "    period_exp_sum = exp_p * np.dot(educ_level, optim_paras[6:9]) + exp_f \n",
    "    depreciation = 1 - np.dot(educ_level, optim_paras[9:12])\n",
    "    \n",
    "    # Calculate wage in the given state\n",
    "    period_exp_total = period_exp_sum * depreciation + 1\n",
    "    returns_to_exp = gamma_s1 * period_exp_total\n",
    "    wage_systematic = np.exp(gamma_s0)*returns_to_exp\n",
    "    \n",
    "    # Return function output\n",
    "    return wage_systematic # This is a scalar, equal for all choices"
   ]
  },
  {
   "cell_type": "code",
   "execution_count": 4,
   "metadata": {},
   "outputs": [],
   "source": [
    "def calculate_period_wages(attr_dict, wage_systematic, draws):\n",
    "    \"\"\"Calculate wages for each choice including choice specific productivty shock.\"\"\"\n",
    "    \n",
    "    # Unpack attributes from the model specification:\n",
    "    num_choices = attr_dict['GENERAL']['num_choices']\n",
    "    \n",
    "    # Initialize container\n",
    "    period_wages = np.tile(np.nan, num_choices)\n",
    "    \n",
    "    # Take the exponential of the disturbances\n",
    "    exp_draws = np.exp(draws)\n",
    "    \n",
    "    # Calculate choice specific wages including productivity shock\n",
    "    period_wages = wage_systematic * exp_draws\n",
    "    \n",
    "    # Return function output\n",
    "    return period_wages # This is a vector, difference between choices comes from disturbance term."
   ]
  },
  {
   "cell_type": "code",
   "execution_count": 5,
   "metadata": {},
   "outputs": [],
   "source": [
    "def calculate_consumption_utilities(attr_dict, period_wages):\n",
    "    \"\"\"Calculate the first part of the period utilities related to consumption\"\"\"\n",
    "    \n",
    "    # Unpack attributes from the model specification:\n",
    "    num_choices = attr_dict['GENERAL']['num_choices']\n",
    "    benefits = attr_dict['CONSTANTS']['benefits']\n",
    "    mu = attr_dict['CONSTANTS']['mu']\n",
    "    \n",
    "    # Initialize container\n",
    "    consumption_utilities = np.tile(np.nan, num_choices)\n",
    "    \n",
    "    # Define hours array, possibly move to another file\n",
    "    hours = np.array([0, 18, 38])\n",
    "    \n",
    "    # Calculate choice specific wages including productivity shock\n",
    "    consumption_utilities = hours * period_wages\n",
    "    consumption_utilities[0]  = benefits**mu/mu\n",
    "    consumption_utilities[1]  = consumption_utilities[1]**mu/mu\n",
    "    consumption_utilities[2]  = consumption_utilities[2]**mu/mu\n",
    "    \n",
    "    # Return function output\n",
    "    return consumption_utilities"
   ]
  },
  {
   "cell_type": "code",
   "execution_count": 6,
   "metadata": {},
   "outputs": [],
   "source": [
    "def calculate_total_utilities(attr_dict, consumption_utilities, optim_paras):\n",
    "    \"\"\"Calculate total flow utility for all choices.\"\"\"\n",
    "    \n",
    "    # Unpack attributes from the model specification:\n",
    "    num_choices = attr_dict['GENERAL']['num_choices']\n",
    "    \n",
    "    # Initialize container for utilities at state space point and period\n",
    "    total_utilities = np.tile(np.nan, num_choices)\n",
    "    \n",
    "    # Calculate U(.) for the three available choices\n",
    "    U_ = np.array([math.exp(0.00),  math.exp(optim_paras[12]), math.exp(optim_paras[13])])\n",
    "    \n",
    "    # Calculate utilities for the avaibale joices N, P, F\n",
    "    total_utilities = consumption_utilities * U_\n",
    "    \n",
    "    # Return function_output\n",
    "    return total_utilities"
   ]
  },
  {
   "cell_type": "code",
   "execution_count": 7,
   "metadata": {},
   "outputs": [],
   "source": [
    "def calculate_utilities(attr_dict, educ_level, exp_p, exp_f, optim_paras, draws):\n",
    "    \"\"\"Calculate flow utilities for all choices given state, period, and shocks.\"\"\"\n",
    "    \n",
    "    # Calculate wage net of period productivity shock\n",
    "    wage_systematic = calculate_wage_systematic(educ_level, exp_p, exp_f, optim_paras)\n",
    "    \n",
    "    # Calculate period wages for the three choices includings chocks' realizations\n",
    "    period_wages = calculate_period_wages(attr_dict, wage_systematic, draws)\n",
    "    \n",
    "    # Calculate 1st part of the period flow utility related to consumption\n",
    "    consumption_utilities = calculate_consumption_utilities(attr_dict, period_wages)\n",
    "    \n",
    "    # Calculate total utility by multiplying U(.) component\n",
    "    utilities = calculate_total_utilities(attr_dict, consumption_utilities, optim_paras)\n",
    "    \n",
    "    # Return function output\n",
    "    return utilities, consumption_utilities, period_wages, wage_systematic"
   ]
  },
  {
   "cell_type": "code",
   "execution_count": 8,
   "metadata": {},
   "outputs": [],
   "source": [
    "def calculate_continuation_values (attr_dict, period, educ_years_idx, exp_p, exp_f):\n",
    "    \"\"\"Obtain continuation values for all choices.\"\"\"\n",
    "    \n",
    "    # Unpack attributes from the model specification:\n",
    "    num_choices = attr_dict['GENERAL']['num_choices']\n",
    "    num_periods = attr_dict['GENERAL']['num_periods']\n",
    "    \n",
    "    MISSING_FLOAT = -99.00\n",
    "\n",
    "    # Initialize container for continuation values\n",
    "    continuation_values = np.tile(MISSING_FLOAT, num_choices)\n",
    "\n",
    "    if period != (num_periods - 1):\n",
    "\n",
    "        # Choice: Non-employment\n",
    "        # Create index for extracting the continuation value\n",
    "        future_idx = mapping_states_index[period + 1, educ_years_idx, 0, exp_p, exp_f]\n",
    "        # Extract continuation value\n",
    "        continuation_values[0] = periods_emax[period + 1, future_idx] \n",
    "\n",
    "        # Choice: Part-time\n",
    "        future_idx = mapping_states_index[period + 1, educ_years_idx, 1, exp_p + 1, exp_f]\n",
    "        continuation_values[1] = periods_emax[period + 1, future_idx]\n",
    "\n",
    "        # Choice: Full-time\n",
    "        future_idx = mapping_states_index[period + 1, educ_years_idx, 2, exp_p, exp_f + 1]\n",
    "        continuation_values[2] = periods_emax[period + 1, future_idx]\n",
    "    \n",
    "    else:\n",
    "        continuation_values = np.tile(0.0, num_choices)\n",
    "        \n",
    "    # Record function output\n",
    "    return continuation_values"
   ]
  }
 ],
 "metadata": {
  "kernelspec": {
   "display_name": "Python 3",
   "language": "python",
   "name": "python3"
  },
  "language_info": {
   "codemirror_mode": {
    "name": "ipython",
    "version": 3
   },
   "file_extension": ".py",
   "mimetype": "text/x-python",
   "name": "python",
   "nbconvert_exporter": "python",
   "pygments_lexer": "ipython3",
   "version": "3.7.0"
  }
 },
 "nbformat": 4,
 "nbformat_minor": 2
}
