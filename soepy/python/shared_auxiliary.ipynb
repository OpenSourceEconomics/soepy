{
 "cells": [
  {
   "cell_type": "code",
   "execution_count": 1,
   "metadata": {},
   "outputs": [],
   "source": [
    "import numpy as np\n",
    "import math"
   ]
  },
  {
   "cell_type": "code",
   "execution_count": 2,
   "metadata": {},
   "outputs": [],
   "source": [
    "def draw_disturbances_standard(num_draws, seed):\n",
    "    \"\"\"Creates desired number of draws of a multivariate standard normal distribution.\"\"\"\n",
    "    \n",
    "    # Set seed\n",
    "    np.random.seed(seed)\n",
    "    \n",
    "    # Create draws from the standard normal distribution\n",
    "    draws_standard = np.random.multivariate_normal(np.zeros(3), np.identity(3), num_draws)\n",
    "    \n",
    "    # Return function output\n",
    "    return draws_standard"
   ]
  },
  {
   "cell_type": "code",
   "execution_count": 3,
   "metadata": {},
   "outputs": [],
   "source": [
    "def transform_disturbances(draws_standard, shocks_cov, means = np.zeros(3)):\n",
    "    \"\"\"Transforms standard normal disturbances into disturbances with distribution \n",
    "    according to model specification parameters\"\"\"\n",
    "    \n",
    "    # Transform by multiplying with variance and adding the mean\n",
    "    # Default values of means are zero\n",
    "    draws_transformed = draws_standard\n",
    "    draws_transformed = draws_standard*shocks_cov + means\n",
    "    \n",
    "    # Transform by taking the exponent\n",
    "    draws_transformed = np.exp(draws_transformed)\n",
    "    \n",
    "    # Return function output\n",
    "    return draws_transformed"
   ]
  }
 ],
 "metadata": {
  "kernelspec": {
   "display_name": "Python 3",
   "language": "python",
   "name": "python3"
  },
  "language_info": {
   "codemirror_mode": {
    "name": "ipython",
    "version": 3
   },
   "file_extension": ".py",
   "mimetype": "text/x-python",
   "name": "python",
   "nbconvert_exporter": "python",
   "pygments_lexer": "ipython3",
   "version": "3.7.0"
  }
 },
 "nbformat": 4,
 "nbformat_minor": 2
}
