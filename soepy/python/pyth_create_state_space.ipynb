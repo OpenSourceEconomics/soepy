{
 "cells": [
  {
   "cell_type": "code",
   "execution_count": 1,
   "metadata": {},
   "outputs": [],
   "source": [
    "import numpy as np"
   ]
  },
  {
   "cell_type": "code",
   "execution_count": 2,
   "metadata": {},
   "outputs": [],
   "source": [
    "# Set value of MISSING_INT here. In respy it is imported from shared_constants module.\n",
    "MISSING_INT = -99"
   ]
  },
  {
   "cell_type": "markdown",
   "metadata": {},
   "source": [
    "As a first step, we need to create the variables which would later be supplied as impiuts to the function"
   ]
  },
  {
   "cell_type": "code",
   "execution_count": 3,
   "metadata": {},
   "outputs": [],
   "source": [
    "num_periods = 20\n",
    "num_types = 2 # There are 2 types, labelled 0 and 1.\n",
    "educ_max = 25 # Maximum number of years of educ in the data, i.e., upper bound of education initial condition\n",
    "educ_min = 10 # Minimim number of years of educ in the data, i.e., lower bound of education initial condition"
   ]
  },
  {
   "cell_type": "code",
   "execution_count": 4,
   "metadata": {},
   "outputs": [],
   "source": [
    "# Auxiliary calculation of the education dimension\n",
    "educ_range = educ_max - educ_min + 1"
   ]
  },
  {
   "cell_type": "code",
   "execution_count": 5,
   "metadata": {},
   "outputs": [
    {
     "data": {
      "text/plain": [
       "16"
      ]
     },
     "execution_count": 5,
     "metadata": {},
     "output_type": "execute_result"
    }
   ],
   "source": [
    "educ_range"
   ]
  },
  {
   "cell_type": "markdown",
   "metadata": {},
   "source": [
    "Next, we create arrays which we want to populate with the state space variables.\n",
    "The components of our state space are:\n",
    "- the time variable: period\n",
    "- the initial conditions: type and education\n",
    "- the history of choices: choice_lagged"
   ]
  },
  {
   "cell_type": "code",
   "execution_count": 6,
   "metadata": {},
   "outputs": [],
   "source": [
    "# Array to collect all state space points (states) that can be reached each period\n",
    "states_all = np.tile(MISSING_INT, (num_periods, 100000, 3))"
   ]
  },
  {
   "cell_type": "markdown",
   "metadata": {},
   "source": [
    "Let us briefly discuss the dimention of the states_all array:\n",
    "- the 1st dimension is determined by the number of periods in our model\n",
    "- the 2nd dimension is related to the maximum number of state space points ever feasible / possibly reachable in one of the periods. Question: Is this true? Is 100 000 simply some arbitrary large number that is for sure larger than the highest possible number of state space points ever reachable in a period? Can one replace this number by some educated guess of the maximum number of state point combinantions given no restrictions?\n",
    "- the 3rd dimension is equal to the number of remaining state space components (except period number) that we want to record: type, education, choice_lagged"
   ]
  },
  {
   "cell_type": "code",
   "execution_count": 7,
   "metadata": {},
   "outputs": [
    {
     "data": {
      "text/plain": [
       "(20, 2, 16, 3)"
      ]
     },
     "execution_count": 7,
     "metadata": {},
     "output_type": "execute_result"
    }
   ],
   "source": [
    "# Array for mapping the state space points to indices\n",
    "shape = (num_periods, num_types, educ_range, 3)\n",
    "mapping_state_index = np.tile(MISSING_INT, shape)\n",
    "mapping_state_index.shape"
   ]
  },
  {
   "cell_type": "markdown",
   "metadata": {},
   "source": [
    "Let us briefly discuss the dimension of the mapping_state_index array. Each dimension component corresponds to the state space component we would like to keep record of.\n",
    "- dimension num_periods corresponds to the period number\n",
    "- num_types to the type indicator\n",
    "- educ_range to the years of education\n",
    "- the number 3 to the number of choices available to the agents each period. Question: is it not better to introduce some variable in stead of the number 3."
   ]
  },
  {
   "cell_type": "code",
   "execution_count": 8,
   "metadata": {},
   "outputs": [],
   "source": [
    "# Array for the maximum number state space points / states per period\n",
    "states_number_period = np.tile(MISSING_INT, num_periods)"
   ]
  },
  {
   "cell_type": "markdown",
   "metadata": {},
   "source": [
    "In a final step, we loop through all admissible state space points and fill up the constructed arrays with necessary information. Thereby, note two important details. \n",
    "- Since the individuals make their first choice in the first period, it is only possible to record their lagged choice from the second period onwards. Therefore, the loop directly skips the first period.\n",
    "- If we want to record only admissible state space points, we have to account for the fact that individuals in the model start making labor supply choices only after they have completed education.\n",
    "\n",
    "Let us look into latter in greater detail. As a reminder, we note that we model individuals from age 16 (legally binding mininum level of education) until age 60 (typical retirement entry age), i.e., for 45 periods, where the 1st period corresponds to age 16, the second period to age 17, etc. The current specification of starting values is equivalent to the observation / simulated reality that individuals in the sample have completed something between 10 and 25 years of edcuation. In our loop we want to take into account the fact that, in the first period at age 16, only individuals who have completed 10 years of education (assuming education for everyone starts at the age of 6) will be making a labor market choice between full-time (F), part-time (P), and non-employment. The remaining individuals are still in education, such that a state space point where years of education equal e.g. 11 and a labor market choice of e.g. part-time is observed is not admissible and should therefore not be recorded. This is ensured by the if clause \"educ_years > period\".\n",
    "\n",
    "We also note that, in the current setting, there is no possibility of duplicate states arising."
   ]
  },
  {
   "cell_type": "code",
   "execution_count": 19,
   "metadata": {},
   "outputs": [],
   "source": [
    "# Loop over all periods / all ages\n",
    "for period in range(num_periods)[1:]:\n",
    "    \n",
    "    # Start count for admissible state space points\n",
    "    k = 0\n",
    "    \n",
    "    # Loop over all types\n",
    "    for type_ in range(num_types):\n",
    "        \n",
    "        # Loop over all possible initial conditions for education\n",
    "        for educ_years in range(educ_range):\n",
    "            \n",
    "            # Check if individual has already completed education\n",
    "            # and will make a labor supply choice in the period\n",
    "            if educ_years > period:\n",
    "                continue\n",
    "            \n",
    "            # Loop over the three labor market choices, F, P, N\n",
    "            for choice_lagged in [1,2,3]:\n",
    "                \n",
    "                # Assign the integer count k as an indicator for the\n",
    "                # currently reached admissible state space point\n",
    "                mapping_state_index[\n",
    "                    period,\n",
    "                    type_,\n",
    "                    educ_years, # check if this is okay like this\n",
    "                    choice_lagged - 1,\n",
    "                ] = k\n",
    "                \n",
    "                # Record the values of the state space components\n",
    "                # for the currently reached admissible state space point\n",
    "                states_all[period, k, :] = [\n",
    "                    type_,\n",
    "                    educ_years + educ_min,\n",
    "                    choice_lagged -1,\n",
    "                ]\n",
    "                \n",
    "                # Update count\n",
    "                k += 1\n",
    "    \n",
    "    # Record number of admissible state space points for the period currently reached in the loop \n",
    "    states_number_period[period] = k"
   ]
  },
  {
   "cell_type": "code",
   "execution_count": null,
   "metadata": {},
   "outputs": [],
   "source": [
    "# Auxiliary objects\n",
    "max_states_period = max(states_number_period)"
   ]
  },
  {
   "cell_type": "code",
   "execution_count": null,
   "metadata": {},
   "outputs": [],
   "source": [
    "# Collect arguments\n",
    "args = (states_all, states_number_period, mapping_state_index, max_states_period)"
   ]
  },
  {
   "cell_type": "code",
   "execution_count": 18,
   "metadata": {},
   "outputs": [
    {
     "data": {
      "text/plain": [
       "array([ 0, 11,  2])"
      ]
     },
     "execution_count": 18,
     "metadata": {},
     "output_type": "execute_result"
    }
   ],
   "source": [
    "states_all[1,5,:]"
   ]
  },
  {
   "cell_type": "code",
   "execution_count": 20,
   "metadata": {},
   "outputs": [
    {
     "data": {
      "text/plain": [
       "array([-99,  12,  18,  24,  30,  36,  42,  48,  54,  60,  66,  72,  78,\n",
       "        84,  90,  96,  96,  96,  96,  96])"
      ]
     },
     "execution_count": 20,
     "metadata": {},
     "output_type": "execute_result"
    }
   ],
   "source": [
    "states_number_period"
   ]
  },
  {
   "cell_type": "code",
   "execution_count": null,
   "metadata": {},
   "outputs": [],
   "source": []
  }
 ],
 "metadata": {
  "kernelspec": {
   "display_name": "Python 3",
   "language": "python",
   "name": "python3"
  },
  "language_info": {
   "codemirror_mode": {
    "name": "ipython",
    "version": 3
   },
   "file_extension": ".py",
   "mimetype": "text/x-python",
   "name": "python",
   "nbconvert_exporter": "python",
   "pygments_lexer": "ipython3",
   "version": "3.7.0"
  }
 },
 "nbformat": 4,
 "nbformat_minor": 2
}
