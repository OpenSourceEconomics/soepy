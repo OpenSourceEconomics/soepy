{
 "cells": [
  {
   "cell_type": "code",
   "execution_count": 17,
   "metadata": {},
   "outputs": [],
   "source": [
    "import pickle\n",
    "import numpy as np"
   ]
  },
  {
   "cell_type": "markdown",
   "metadata": {},
   "source": [
    "In order to slowly move towards a modular file structure, we define constants, the model parameters, and ohters in separate notebooks. This notebook uses the ipynb library (pip install ipynb) to import constants, model parameters, and funtions that have been moved to other notebooks. The goal of this restructuring is to improve readability, make dependences clear and ease settig up testing tear."
   ]
  },
  {
   "cell_type": "code",
   "execution_count": 18,
   "metadata": {},
   "outputs": [],
   "source": [
    "# Execute entire file and make all variables/functions/classes\n",
    "# available for further use\n",
    "from ipynb.fs.full.model_spec import num_periods, num_choices, educ_max, educ_min\n",
    "\n",
    "# Import specified definitions only from given notebook\n",
    "import ipynb.fs\n",
    "from .defs.shared_constants import MISSING_INT"
   ]
  },
  {
   "cell_type": "code",
   "execution_count": 15,
   "metadata": {},
   "outputs": [
    {
     "data": {
      "text/plain": [
       "10"
      ]
     },
     "execution_count": 15,
     "metadata": {},
     "output_type": "execute_result"
    }
   ],
   "source": [
    "num_periods"
   ]
  },
  {
   "cell_type": "code",
   "execution_count": 4,
   "metadata": {},
   "outputs": [],
   "source": [
    "# Auxiliary calculation of the education dimension\n",
    "educ_range = educ_max - educ_min + 1"
   ]
  },
  {
   "cell_type": "markdown",
   "metadata": {},
   "source": [
    "Next, we create arrays which we want to populate with the state space variables.\n",
    "The components of our state space are:\n",
    "- the time variable: period\n",
    "- the initial conditions: education\n",
    "- the history of choices: choice_lagged\n",
    "- the accumulated experience in part-time employment: exp_p\n",
    "- the accumulated experience in full-time employment: exp_f"
   ]
  },
  {
   "cell_type": "code",
   "execution_count": 6,
   "metadata": {},
   "outputs": [
    {
     "name": "stdout",
     "output_type": "stream",
     "text": [
      "(10, 5, 3, 10, 10) 15000\n"
     ]
    }
   ],
   "source": [
    "# Array for mapping the state space points to indices\n",
    "shape = (num_periods, educ_range, num_choices, num_periods, num_periods)\n",
    "mapping_state_index = np.tile(MISSING_INT, shape)\n",
    "\n",
    "# Maximum number of state space points per period. There can be no more states in a period than this number. \n",
    "num_states_period_upper_bound = np.prod(mapping_state_index.shape)\n",
    "print(mapping_state_index.shape, num_states_period_upper_bound)"
   ]
  },
  {
   "cell_type": "markdown",
   "metadata": {},
   "source": [
    "Let us briefly discuss the dimension of the mapping_state_index array. Each dimension component corresponds to the state space component we would like to keep record of.\n",
    "- dimension 1 num_periods corresponds to the period number\n",
    "- educ_range to the years of education\n",
    "- num_choices to the number of choices available to the agents each period\n",
    "- dimension 4 num_periods to years of experience in part-time\n",
    "- dimension 5 num_periods to years of experience in full-time"
   ]
  },
  {
   "cell_type": "code",
   "execution_count": 7,
   "metadata": {},
   "outputs": [],
   "source": [
    "# Array to collect all state space points (states) that can be reached each period\n",
    "states_all = np.tile(MISSING_INT, (num_periods, num_states_period_upper_bound, 4))"
   ]
  },
  {
   "cell_type": "markdown",
   "metadata": {},
   "source": [
    "Let us briefly discuss the dimention of the states_all array:\n",
    "- the 1st dimension is determined by the number of periods in our model\n",
    "- the 2nd dimension is related to the maximum number of state space points ever feasible / possibly reachable in one of the periods. *Question: Is this true? Is 100 000 simply some arbitrary large number that is for sure larger than the highest possible number of state space points ever reachable in a period? Can one replace this number by some educated guess of the maximum number of state point combinantions given no restrictions?*\n",
    "- the 3rd dimension is equal to the number of remaining state space components (except period number) that we want to record: educ_years + educ_min, choice_lagged, exp_p, exp_f"
   ]
  },
  {
   "cell_type": "code",
   "execution_count": 8,
   "metadata": {},
   "outputs": [],
   "source": [
    "# Array for the maximum number state space points / states per period\n",
    "states_number_period = np.tile(MISSING_INT, num_periods)"
   ]
  },
  {
   "cell_type": "markdown",
   "metadata": {},
   "source": [
    "In a final step, we loop through all admissible state space points and fill up the constructed arrays with necessary information."
   ]
  },
  {
   "cell_type": "markdown",
   "metadata": {},
   "source": [
    "Introducing education as initial condition:\n",
    "\n",
    "- If we want to record only admissible state space points, we have to account for the fact that individuals in the model start making labor supply choices only after they have completed education.\n",
    "\n",
    "Let us look into latter in greater detail. As a reminder, we note that we model individuals from age 16 (legally binding mininum level of education) until age 60 (typical retirement entry age), i.e., for 45 periods, where the 1st period corresponds to age 16, the second period to age 17, etc. The current specification of starting values is equivalent to the observation / simulated reality that individuals in the sample have completed something between 10 and 14 years of edcuation. In our loop we want to take into account the fact that, in the first period at age 16, only individuals who have completed 10 years of education (assuming education for everyone starts at the age of 6) will be making a labor market choice between full-time (F), part-time (P), and non-employment (N). The remaining individuals are still in education, such that a state space point where years of education equal e.g. 11 and a labor market choice of e.g. part-time is observed is not admissible and should therefore not be recorded. This is ensured by the if clause \"educ_years > period\".\n",
    "\n",
    "- When starting the model in the way described, we need to account for an additional state space point which corresponds to individuals who have just entered the model.\n",
    "\n",
    "Let us consider the very first period, period 0 in the loop, as an example. In this period, only individuals with 10 years of education enter the model and make their first labor supply choice. In order to later be able to compute the instataneous utility for this individuals, we need to record their state space components. As there is no lagged choice available to record, we force set the lagged choice component to zero. In particular, for states for which the condition (period == educ_years) is true, i.e., for individuals who have just entered the model, we record a state: (educ_years + educ_min, 0, 0, 0)."
   ]
  },
  {
   "cell_type": "code",
   "execution_count": 9,
   "metadata": {},
   "outputs": [],
   "source": [
    "# Loop over all periods / all ages\n",
    "for period in range(num_periods):\n",
    "    \n",
    "    # Start count for admissible state space points\n",
    "    k = 0\n",
    "        \n",
    "    # Loop over all possible initial conditions for education\n",
    "    for educ_years in range(educ_range):\n",
    "            \n",
    "        # Check if individual has already completed education\n",
    "        # and will make a labor supply choice in the period\n",
    "        if educ_years > period:\n",
    "            continue\n",
    "        \n",
    "        # Loop over all admissible years of experience accumulated in part-time\n",
    "        for exp_f in range(num_periods):\n",
    "            \n",
    "            # Loop over all admaissible years of experience accumulated in full-time\n",
    "            for exp_p in range(num_periods):\n",
    "                \n",
    "                # The accumulation of experience cannot exceed time lapsed\n",
    "                # since individual entered the model\n",
    "                if (exp_f + exp_p > period - educ_years):\n",
    "                    continue\n",
    "                \n",
    "                # Add an additional entry state [educ_years + educ_min, 0, 0, 0]\n",
    "                # for individuals who have just completed education\n",
    "                # and still have no experience in any occupation.\n",
    "                if (period == educ_years):\n",
    "\n",
    "                    # Assign an additional the integer count k\n",
    "                    # for entry state\n",
    "                    mapping_state_index[\n",
    "                        period,\n",
    "                        educ_years,\n",
    "                        0,\n",
    "                        0,\n",
    "                        0,\n",
    "                    ] = k\n",
    "\n",
    "                    # Record the values of the state space components\n",
    "                    # for the currentry reached entry state\n",
    "                    states_all[period, k, :] = [\n",
    "                        educ_years + educ_min,\n",
    "                        0,\n",
    "                        0,\n",
    "                        0,\n",
    "                    ]\n",
    "\n",
    "                    # Update count once more\n",
    "                    k += 1\n",
    "\n",
    "                else:\n",
    "                \n",
    "                    # Loop over the three labor market choices, N, P, F\n",
    "                    for choice_lagged in [1,2,3]:\n",
    "\n",
    "                        # If individual has only worked full-time in the past,\n",
    "                        # she can only have full-time (3) as lagged choice\n",
    "                        if (choice_lagged != 3) and (exp_f == period - educ_years):\n",
    "                            continue\n",
    "\n",
    "                        # If individual has only worked part-time in the past,\n",
    "                        # she can only have part-time (2) as lagged choice\n",
    "                        if (choice_lagged != 2) and (exp_p == period - educ_years):\n",
    "                            continue\n",
    "\n",
    "                        # If an individual has never worked full-time,\n",
    "                        # she cannot have that lagged activity\n",
    "                        if (choice_lagged == 3) and (exp_f == 0):\n",
    "                            continue\n",
    "\n",
    "                        # If an individual has never worked part-time,\n",
    "                        # she cannot have that lagged activity\n",
    "                        if (choice_lagged == 2) and (exp_p == 0):\n",
    "                            continue\n",
    "\n",
    "                        # Check for duplicate states\n",
    "                        if (\n",
    "                            mapping_state_index[\n",
    "                                period,\n",
    "                                educ_years,\n",
    "                                choice_lagged - 1,\n",
    "                                exp_p,\n",
    "                                exp_f,\n",
    "                            ]\n",
    "                            != MISSING_INT\n",
    "                        ):\n",
    "                            continue\n",
    "\n",
    "                        # Assign the integer count k as an indicator for the\n",
    "                        # currently reached admissible state space point\n",
    "                        mapping_state_index[\n",
    "                            period,\n",
    "                            educ_years,\n",
    "                            choice_lagged - 1,\n",
    "                            exp_p,\n",
    "                            exp_f,\n",
    "                        ] = k\n",
    "\n",
    "                        # Record the values of the state space components\n",
    "                        # for the currently reached admissible state space point\n",
    "                        states_all[period, k, :] = [\n",
    "                            educ_years + educ_min,\n",
    "                            choice_lagged -1,\n",
    "                            exp_p,\n",
    "                            exp_f,\n",
    "                        ]\n",
    "\n",
    "                        # Update count\n",
    "                        k += 1\n",
    "    \n",
    "    # Record number of admissible state space points for the period currently reached in the loop \n",
    "    states_number_period[period] = k"
   ]
  },
  {
   "cell_type": "markdown",
   "metadata": {},
   "source": [
    "We briefly repeat what has been recorded in the states_all array:\n",
    " - educ_years + educ_min: in this example, values from 10 to 14\n",
    " - choice_lagged -1: 0, 1, 2 corresponding to N, P, and F\n",
    " - exp_p: part-time experience that can range from 0 to 9\n",
    " - exp_f: full-time experience that can range from 0 to 9\n",
    " \n",
    " *Note: There is a difference to respy here. In respy, the loop in experience is one iteration longer, goes to num_periods + 1 instead of to num_periods.*"
   ]
  },
  {
   "cell_type": "code",
   "execution_count": 10,
   "metadata": {},
   "outputs": [],
   "source": [
    "# Auxiliary objects\n",
    "max_states_period = max(states_number_period)"
   ]
  },
  {
   "cell_type": "code",
   "execution_count": 11,
   "metadata": {},
   "outputs": [],
   "source": [
    "# Collect arguments\n",
    "args = (states_all, states_number_period, mapping_state_index, max_states_period)"
   ]
  },
  {
   "cell_type": "code",
   "execution_count": 12,
   "metadata": {},
   "outputs": [
    {
     "data": {
      "text/plain": [
       "array([  1,   4,  14,  34,  67, 115, 180, 260, 355, 465])"
      ]
     },
     "execution_count": 12,
     "metadata": {},
     "output_type": "execute_result"
    }
   ],
   "source": [
    "states_number_period"
   ]
  },
  {
   "cell_type": "markdown",
   "metadata": {},
   "source": [
    "Ideas checks and tests:\n",
    "- check if loop visits the whole range of values by checking min and max of array entries for the differnt state space components."
   ]
  },
  {
   "cell_type": "code",
   "execution_count": 13,
   "metadata": {},
   "outputs": [
    {
     "name": "stdout",
     "output_type": "stream",
     "text": [
      "14 2 9 9\n"
     ]
    }
   ],
   "source": [
    "print(np.amax(states_all[:,:,0]), np.amax(states_all[:,:,1]), np.amax(states_all[:,:,2]), np.amax(states_all[:,:,3]))"
   ]
  },
  {
   "cell_type": "markdown",
   "metadata": {},
   "source": [
    "Export final output:"
   ]
  },
  {
   "cell_type": "code",
   "execution_count": 14,
   "metadata": {},
   "outputs": [],
   "source": [
    "# Choose a file name\n",
    "file_name = \"args_file.pkl\"\n",
    "\n",
    "# Open the file for writing\n",
    "with open(file_name,'wb') as my_file_obj:\n",
    "    pickle.dump(args, my_file_obj)   "
   ]
  }
 ],
 "metadata": {
  "kernelspec": {
   "display_name": "Python 3",
   "language": "python",
   "name": "python3"
  },
  "language_info": {
   "codemirror_mode": {
    "name": "ipython",
    "version": 3
   },
   "file_extension": ".py",
   "mimetype": "text/x-python",
   "name": "python",
   "nbconvert_exporter": "python",
   "pygments_lexer": "ipython3",
   "version": "3.7.0"
  }
 },
 "nbformat": 4,
 "nbformat_minor": 2
}
