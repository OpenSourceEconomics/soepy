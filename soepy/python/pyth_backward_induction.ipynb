{
 "cells": [
  {
   "cell_type": "markdown",
   "metadata": {},
   "source": [
    "Notes:\n",
    "- Discuss how we want to introduce the error term in the simplest 1st version of our model.\n",
    "- Is there a more efficient way to record education level."
   ]
  },
  {
   "cell_type": "markdown",
   "metadata": {},
   "source": [
    "As a final product of this notebook we wish to obtain the highest value function among the choice specific value functions for the three labor market choices at each admissible state space point in each period of the model."
   ]
  },
  {
   "cell_type": "code",
   "execution_count": 1,
   "metadata": {},
   "outputs": [],
   "source": [
    "import pickle\n",
    "import numpy as np\n",
    "import math"
   ]
  },
  {
   "cell_type": "markdown",
   "metadata": {},
   "source": [
    "As a first step, we need to ensure that all arguments we need to supply to the function are available."
   ]
  },
  {
   "cell_type": "markdown",
   "metadata": {},
   "source": [
    "We import the model specification parameters and externally defined constants here."
   ]
  },
  {
   "cell_type": "code",
   "execution_count": 2,
   "metadata": {},
   "outputs": [],
   "source": [
    "# Execute entire file and make all variables/functions/classes\n",
    "# available for further use\n",
    "from ipynb.fs.full.model_spec import (num_periods,\n",
    "                                      num_choices,\n",
    "                                      educ_max,\n",
    "                                      educ_min,\n",
    "                                      educ_range,\n",
    "                                      mu,\n",
    "                                      delta,\n",
    "                                      optim_paras)\n",
    "\n",
    "# Import specified definitions only from given notebook\n",
    "import ipynb.fs\n",
    "from .defs.shared_constants import MISSING_INT, MISSING_FLOAT"
   ]
  },
  {
   "cell_type": "markdown",
   "metadata": {},
   "source": [
    "In a final version of soepy, the pyth_create_state_space state space is called before the backward_induction procedure. Here, we import the final output of the pyth_create_state_function."
   ]
  },
  {
   "cell_type": "code",
   "execution_count": 3,
   "metadata": {},
   "outputs": [],
   "source": [
    "# Import the final output of pyth_create_state_space, args\n",
    "file_name = \"args_file.pkl\"\n",
    "# Open the file for reading\n",
    "file_object = open(file_name,'rb')  \n",
    "# load the object from the file into var args\n",
    "args = pickle.load(file_object)"
   ]
  },
  {
   "cell_type": "code",
   "execution_count": 4,
   "metadata": {},
   "outputs": [],
   "source": [
    "# Unpack objects from agrs\n",
    "states_all, states_number_period, mapping_states_index, max_states_period = args[0], args[1], args[2], args[3]"
   ]
  },
  {
   "cell_type": "markdown",
   "metadata": {},
   "source": [
    "The individuals in our model, solve their optimization problem by making a labor supply choice every period. They choose the option that is associated with the highest value function. The value function for each of the 3 alternatives is the sum of the current period flow utility of choosing alternative j and a continuation value.\n",
    "\n",
    "The flow utility includes the current period wage shock, which the individual becomes aware of in the begining of the period and includes her calculations. To obtain an estimate of the continuation value the individual has to integrate out the distribution of the future shocks. In the model implementstion, we perform numerical integration via a Monte Carlo simulation.\n",
    "\n",
    "As a next step, we generate draws of the know error term distribution."
   ]
  },
  {
   "cell_type": "code",
   "execution_count": 5,
   "metadata": {},
   "outputs": [],
   "source": [
    "# Set seed and number of draws for the Monte Carlo integrstion of the error term out of the continuation value\n",
    "num_draws_emax = 500 # (in final version, to be supplied at initialization)\n",
    "seed = 635\n",
    "\n",
    "# Create draws from the standard normal distribution\n",
    "np.random.seed(seed)\n",
    "draws_emax_standard = np.random.multivariate_normal(np.zeros(2), np.identity(2), (num_periods, num_draws_emax))\n",
    "\n",
    "# Transform disturbances to normal distribution with desired covariance matrix\n",
    "chocks_cov = [optim_paras[14]**2, optim_paras[15]**2] #Form covariances\n",
    "draws_emax_risk = draws_emax_standard\n",
    "draws_emax_risk[:,:,0] = draws_emax_standard[:,:,0]*chocks_cov[0]\n",
    "draws_emax_risk[:,:,1] = draws_emax_standard[:,:,1]*chocks_cov[1]\n",
    "\n",
    "#Transform by taking the exponent\n",
    "draws_emax_risk = np.exp(draws_emax_risk)"
   ]
  },
  {
   "cell_type": "code",
   "execution_count": 6,
   "metadata": {},
   "outputs": [
    {
     "data": {
      "text/plain": [
       "(10, 500, 2)"
      ]
     },
     "execution_count": 6,
     "metadata": {},
     "output_type": "execute_result"
    }
   ],
   "source": [
    "draws_emax_risk.shape"
   ]
  },
  {
   "cell_type": "markdown",
   "metadata": {},
   "source": [
    "In the current formulation, we assume that the wage process is subject to additive measurement error. The disturbances for the part-time and the full-time wage are normally distributed with mean zero. The spesification assumes no serial and also no contemporaneous correlation across the two error terms."
   ]
  },
  {
   "cell_type": "markdown",
   "metadata": {},
   "source": [
    "Finally, we need to define additional functions that are called in the backward induction loop."
   ]
  },
  {
   "cell_type": "code",
   "execution_count": 7,
   "metadata": {},
   "outputs": [],
   "source": [
    "def calculate_utilities(educ_lev, exp_p, exp_f, optim_paras, draws):\n",
    "    \"\"\"Calculate flow utility for all choices by state and period.\"\"\"\n",
    "    \n",
    "    # Initialize container for utilities at state space point and period\n",
    "    utilities = np.tile(np.nan, num_choices)\n",
    "    \n",
    "    # Calculate utilities for the avaibale joices N, P, F\n",
    "    \n",
    "    # Non-employment\n",
    "    utilities[0] = 0\n",
    "    \n",
    "    #Part-time employment\n",
    "    utilities[1] = 18*(np.exp(np.dot(educ_lev, optim_paras[0:3])) + \n",
    "                       np.dot(educ_lev, optim_paras[3:6]) *\n",
    "                       (exp_p * np.dot(educ_lev, optim_paras[6:9]) + exp_f) \n",
    "                       * (1 - np.dot(educ_lev, optim_paras[9:12])) + 1\n",
    "                      + draws[0])**mu/mu + math.exp(optim_paras[12])\n",
    "    \n",
    "    # Full-time employment\n",
    "    utilities[2] = 38*(np.exp(np.dot(educ_lev, optim_paras[0:3])) + \n",
    "                       np.dot(educ_lev, optim_paras[3:6]) *\n",
    "                       (exp_p * np.dot(educ_lev, optim_paras[6:9]) + exp_f) \n",
    "                       * (1 - np.dot (educ_lev, optim_paras[9:12])) + 1\n",
    "                      + draws[1])**mu/mu + math.exp(optim_paras[13])\n",
    "    \n",
    "    return utilities"
   ]
  },
  {
   "cell_type": "code",
   "execution_count": 8,
   "metadata": {},
   "outputs": [],
   "source": [
    "def construct_emax_risk (period,\n",
    "                         k,\n",
    "                         educ_lev,\n",
    "                         educ_years_idx,\n",
    "                         num_periods,\n",
    "                         num_draws_emax,\n",
    "                         draws_emax_period,\n",
    "                         states_all,\n",
    "                         mapping_states_index,\n",
    "                         optim_paras,\n",
    "                         periods_emax,\n",
    "):\n",
    "    \"\"\"Obtain the maximum of the value fucntion over the available choices \n",
    "    via a Monte Carlo simulation integration procedure.\n",
    "    \"\"\"\n",
    "    \n",
    "    # Initialize container for sum of maximum value functions\n",
    "    # over all error term draws for the period and state\n",
    "    emax = 0.0\n",
    "    \n",
    "    # Loop over all error term draws\n",
    "    # for the period and state currently rached by the parent loop\n",
    "    for i in range(num_draws_emax):\n",
    "        \n",
    "        # Extract the error term draws corresponding to\n",
    "        # period number, state, and loop iteration number, i\n",
    "        corresponding_draws = draws_emax_period[i, :]\n",
    "        \n",
    "        # Extract relevant state space components \n",
    "        educ_years, _, exp_p, exp_f = states_all[period, k, :]\n",
    "        \n",
    "        # Calculate flow utility at current period, state, and draw\n",
    "        flow_utilities = calculate_utilities(educ_lev, exp_p, exp_f, optim_paras, corresponding_draws)\n",
    "        \n",
    "        # Obtain continuation values for all choices\n",
    "        # Initialize container for continuation values\n",
    "        continuation_values = np.tile(MISSING_FLOAT, 3)\n",
    "        \n",
    "        if period != (num_periods - 1):\n",
    "            \n",
    "            # Choice: Non-employment\n",
    "            # Create index for extracting the continuation value\n",
    "            future_idx = mapping_states_index[period + 1, educ_years_idx, 0, exp_p, exp_f]\n",
    "            # Extract continuation value\n",
    "            continuation_values[0] = periods_emax[period + 1, future_idx] \n",
    "\n",
    "            # Choice: Part-time\n",
    "            future_idx = mapping_states_index[period + 1, educ_years_idx, 1, exp_p + 1, exp_f]\n",
    "            continuation_values[1] = periods_emax[period + 1, future_idx]\n",
    "\n",
    "            # Choice: Full-time\n",
    "            future_idx = mapping_states_index[period + 1, educ_years_idx, 2, exp_p, exp_f + 1]\n",
    "            continuation_values[2] = periods_emax[period + 1, future_idx]\n",
    "        else:\n",
    "            continuation_value = np.tile(0.0, num_choices)\n",
    "        \n",
    "        # Calculate choice specific value functions\n",
    "        value_functions = flow_utilities + delta*continuation_values\n",
    "        \n",
    "        # Obtain highest value function\n",
    "        maximum = max(value_functions)\n",
    "        \n",
    "        # Add to sum over all draws\n",
    "        emax += maximum\n",
    "        \n",
    "        # End loop\n",
    "    \n",
    "    # Average over the number of draws\n",
    "    emax = emax / num_draws_emax\n",
    "    \n",
    "    # Thus, we have integrated out the error term\n",
    "    \n",
    "    # Output\n",
    "    return emax"
   ]
  },
  {
   "cell_type": "markdown",
   "metadata": {},
   "source": [
    "Before we begin the backward iteration procedure, we initialize the container for the final result."
   ]
  },
  {
   "cell_type": "code",
   "execution_count": 9,
   "metadata": {},
   "outputs": [],
   "source": [
    "# Initialize container for the final result,\n",
    "# maximal value function per perdiod and state:\n",
    "periods_emax = np.tile(MISSING_FLOAT, (num_periods, max_states_period))"
   ]
  },
  {
   "cell_type": "markdown",
   "metadata": {},
   "source": [
    "We can now start the backward iteration procedure."
   ]
  },
  {
   "cell_type": "code",
   "execution_count": 10,
   "metadata": {},
   "outputs": [],
   "source": [
    "# Loop over all periods\n",
    "for period in range(num_periods - 1, -1, -1):\n",
    "    \n",
    "    # Select the random draws for Monte Carlo integration relevant for the period\n",
    "    draws_emax_period = draws_emax_risk[period, :, :]\n",
    "    \n",
    "    # Loop over all admissible state space points\n",
    "    # for the period currently reached by the parent loop\n",
    "    for k in range(states_number_period[period]):\n",
    "        \n",
    "        # Unpack state space components\n",
    "        educ_years = states_all[period, k, 0]\n",
    "        \n",
    "        # Extract education information\n",
    "        if (educ_years <= 10):\n",
    "            educ_lev = [1,0,0]\n",
    "\n",
    "        elif (educ_years > 10) and (educ_years <= 12):\n",
    "            educ_lev = [0,1,0]\n",
    "\n",
    "        else:\n",
    "            educ_lev = [0,0,1]\n",
    "            \n",
    "        educ_years_idx = educ_years - educ_min\n",
    "            \n",
    "            \n",
    "        # Integrate out the error term\n",
    "        emax = construct_emax_risk (\n",
    "            period,\n",
    "            k,\n",
    "            educ_lev,\n",
    "            educ_years_idx,\n",
    "            num_periods,\n",
    "            num_draws_emax,\n",
    "            draws_emax_period,\n",
    "            states_all,\n",
    "            mapping_states_index,\n",
    "            optim_paras,\n",
    "            periods_emax,\n",
    "        )\n",
    "        \n",
    "        # Record output\n",
    "        periods_emax[period, k] = emax"
   ]
  },
  {
   "cell_type": "markdown",
   "metadata": {},
   "source": [
    "Export final output:"
   ]
  },
  {
   "cell_type": "code",
   "execution_count": 11,
   "metadata": {},
   "outputs": [],
   "source": [
    "# Choose a file name\n",
    "file_name = \"periods_emax_file.pkl\"\n",
    "\n",
    "# Open the file for writing\n",
    "with open(file_name,'wb') as my_file_obj:\n",
    "    pickle.dump(periods_emax, my_file_obj)  "
   ]
  }
 ],
 "metadata": {
  "kernelspec": {
   "display_name": "Python 3",
   "language": "python",
   "name": "python3"
  },
  "language_info": {
   "codemirror_mode": {
    "name": "ipython",
    "version": 3
   },
   "file_extension": ".py",
   "mimetype": "text/x-python",
   "name": "python",
   "nbconvert_exporter": "python",
   "pygments_lexer": "ipython3",
   "version": "3.7.0"
  }
 },
 "nbformat": 4,
 "nbformat_minor": 2
}
