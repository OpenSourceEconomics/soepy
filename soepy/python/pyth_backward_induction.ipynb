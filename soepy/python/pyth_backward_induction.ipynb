{
 "cells": [
  {
   "cell_type": "markdown",
   "metadata": {},
   "source": [
    "Notes:\n",
    "- Discuss how we want to introduce the error term in the simplest 1st version of our model.\n",
    "- Is there a more efficient way to record education level."
   ]
  },
  {
   "cell_type": "markdown",
   "metadata": {},
   "source": [
    "As a final product of this notebook we wish to obtain the highest value function among the choice specific value functions for the three labor market choices at each admissible state space point in each period of the model."
   ]
  },
  {
   "cell_type": "code",
   "execution_count": 1,
   "metadata": {},
   "outputs": [],
   "source": [
    "import pickle\n",
    "import numpy as np\n",
    "import math"
   ]
  },
  {
   "cell_type": "markdown",
   "metadata": {},
   "source": [
    "As a first step, we need to ensure that all arguments we need to supply to the function are available."
   ]
  },
  {
   "cell_type": "markdown",
   "metadata": {},
   "source": [
    "We import the model specification parameters and externally defined constants here."
   ]
  },
  {
   "cell_type": "code",
   "execution_count": 2,
   "metadata": {},
   "outputs": [],
   "source": [
    "# Execute entire file and make all variables/functions/classes\n",
    "# available for further use\n",
    "from ipynb.fs.full.model_spec import (num_periods,\n",
    "                                      num_choices,\n",
    "                                      educ_max,\n",
    "                                      educ_min,\n",
    "                                      educ_range,\n",
    "                                      mu,\n",
    "                                      delta,\n",
    "                                      optim_paras,\n",
    "                                      num_draws_emax,\n",
    "                                      seed_emax,\n",
    "                                      shocks_cov)\n",
    "\n",
    "# Import specified definitions only from given notebook\n",
    "import ipynb.fs\n",
    "from .defs.shared_constants import MISSING_INT, MISSING_FLOAT\n",
    "\n",
    "from .defs.shared_auxiliary import draw_disturbances"
   ]
  },
  {
   "cell_type": "markdown",
   "metadata": {},
   "source": [
    "In a final version of soepy, the pyth_create_state_space state space is called before the backward_induction procedure. Here, we import the final output of the pyth_create_state_function."
   ]
  },
  {
   "cell_type": "code",
   "execution_count": 3,
   "metadata": {},
   "outputs": [],
   "source": [
    "# Import the final output of pyth_create_state_space, args\n",
    "file_name = \"args_file.pkl\"\n",
    "# Open the file for reading\n",
    "file_object = open(file_name,'rb')  \n",
    "# load the object from the file into var args\n",
    "args = pickle.load(file_object)"
   ]
  },
  {
   "cell_type": "code",
   "execution_count": 4,
   "metadata": {},
   "outputs": [],
   "source": [
    "# Unpack objects from agrs\n",
    "states_all, states_number_period, mapping_states_index, max_states_period = args[0], args[1], args[2], args[3]"
   ]
  },
  {
   "cell_type": "markdown",
   "metadata": {},
   "source": [
    "The individuals in our model, solve their optimization problem by making a labor supply choice every period. They choose the option that is associated with the highest value function. The value function for each of the 3 alternatives is the sum of the current period flow utility of choosing alternative j and a continuation value.\n",
    "\n",
    "The flow utility includes the current period wage shock, which the individual becomes aware of in the begining of the period and includes her calculations. To obtain an estimate of the continuation value the individual has to integrate out the distribution of the future shocks. In the model implementstion, we perform numerical integration via a Monte Carlo simulation.\n",
    "\n",
    "As a next step, we generate draws of a bivariate standard normal distribution and transform them to the know error term distribution according to the corresponding paramters in the model specification."
   ]
  },
  {
   "cell_type": "code",
   "execution_count": 5,
   "metadata": {},
   "outputs": [],
   "source": [
    "draws_emax = draw_disturbances((num_periods, num_draws_emax), shocks_cov, seed_emax)"
   ]
  },
  {
   "cell_type": "markdown",
   "metadata": {},
   "source": [
    "In the current formulation, we assume that the wage process is subject to additive measurement error. The disturbances for the part-time and the full-time wage are normally distributed with mean zero. The spesification assumes no serial and also no contemporaneous correlation across the two error terms."
   ]
  },
  {
   "cell_type": "markdown",
   "metadata": {},
   "source": [
    "Finally, we need to define additional functions that are called in the backward induction loop."
   ]
  },
  {
   "cell_type": "code",
   "execution_count": 6,
   "metadata": {},
   "outputs": [],
   "source": [
    "def calculate_wage_systematic(educ_level, exp_p, exp_f, optim_paras):\n",
    "    \"\"\"Calculate systematic wages, i.e. net of shock, for specified state.\"\"\"\n",
    "    \n",
    "    # Initialize container\n",
    "    wage_systematic = np.nan\n",
    "    \n",
    "    # Construct wage components\n",
    "    gamma_s0 = np.dot(educ_level, optim_paras[0:3]) \n",
    "    gamma_s1 = np.dot(educ_level, optim_paras[3:6])\n",
    "    period_exp_sum = exp_p * np.dot(educ_level, optim_paras[6:9]) + exp_f \n",
    "    depreciation = 1 - np.dot(educ_level, optim_paras[9:12])\n",
    "    \n",
    "    # Calculate wage in the given state\n",
    "    period_exp_total = period_exp_sum * depreciation + 1\n",
    "    returns_to_exp = gamma_s1 * period_exp_total\n",
    "    wage_systematic = np.exp(gamma_s0)*returns_to_exp\n",
    "    \n",
    "    # Return function output\n",
    "    return wage_systematic # This is a scalar, equal for all choices"
   ]
  },
  {
   "cell_type": "code",
   "execution_count": 7,
   "metadata": {},
   "outputs": [],
   "source": [
    "def calculate_period_wages(wage_systematic, draws):\n",
    "    \"\"\"Calculate wages for each choice including choice specific productivty shock.\"\"\"\n",
    "    \n",
    "    # Initialize container\n",
    "    period_wages = np.tile(np.nan, num_choices)\n",
    "    \n",
    "    # Take the exponential of the disturbances\n",
    "    exp_draws = np.exp(draws)\n",
    "    \n",
    "    # Calculate choice specific wages including productivity shock\n",
    "    period_wages = wage_systematic * exp_draws\n",
    "    \n",
    "    # Return function output\n",
    "    return period_wages # This is a vector, difference between choices comes from disturbance term."
   ]
  },
  {
   "cell_type": "markdown",
   "metadata": {},
   "source": [
    "Note:\n",
    "\n",
    "In the toy model, consumption in any period is zero if the individual chooses non-employment. This is the case because consumption is simply the product of the period wage and the hours worked, and the hours worked in the case of non-employment are equal to zero. The calculation of the 1st part of the utility function related to consumption involves taking period consumption to the negative pover mu. In the programm, this would yield -inf. To avoid this complication, here the consumption utility of non-employment is normalized to zero."
   ]
  },
  {
   "cell_type": "code",
   "execution_count": 8,
   "metadata": {},
   "outputs": [],
   "source": [
    "def calculate_consumption_utilities(period_wages):\n",
    "    \"\"\"Calculate the first part of the period utilities related to consumption\"\"\"\n",
    "    \n",
    "    # Initialize container\n",
    "    consumption_utilities = np.tile(np.nan, num_choices)\n",
    "    \n",
    "    # Define hours array, possibly move to another file\n",
    "    hours = np.array([0, 18, 38])\n",
    "    \n",
    "    # Calculate choice specific wages including productivity shock\n",
    "    consumption_utilities = hours * period_wages\n",
    "    consumption_utilities[1]  = consumption_utilities[1]**mu/mu\n",
    "    consumption_utilities[2]  = consumption_utilities[2]**mu/mu\n",
    "    \n",
    "    # Return function output\n",
    "    return consumption_utilities"
   ]
  },
  {
   "cell_type": "code",
   "execution_count": 9,
   "metadata": {},
   "outputs": [],
   "source": [
    "def calculate_total_utilities(consumption_utilities, optim_paras):\n",
    "    \"\"\"Calculate total flow utility for all choices.\"\"\"\n",
    "    \n",
    "    # Initialize container for utilities at state space point and period\n",
    "    total_utilities = np.tile(np.nan, num_choices)\n",
    "    \n",
    "    # Calculate U(.) for the three available choices\n",
    "    U_ = np.array([math.exp(0.00),  math.exp(optim_paras[12]), math.exp(optim_paras[13])])\n",
    "    \n",
    "    # Calculate utilities for the avaibale joices N, P, F\n",
    "    total_utilities = consumption_utilities * U_\n",
    "    \n",
    "    # Return function_output\n",
    "    return total_utilities"
   ]
  },
  {
   "cell_type": "markdown",
   "metadata": {},
   "source": [
    "test_total_utilities = calculate_total_utilities(test_consumption_utilities, optim_paras)\n",
    "test_total_utilities"
   ]
  },
  {
   "cell_type": "code",
   "execution_count": 10,
   "metadata": {},
   "outputs": [],
   "source": [
    "def calculate_utilities(educ_level, exp_p, exp_f, optim_paras, draws):\n",
    "    \"\"\"Calculate flow utilities for all choices given state, period, and shocks.\"\"\"\n",
    "    \n",
    "    # Calculate wage net of period productivity shock\n",
    "    wage_systematic = calculate_wage_systematic(educ_level, exp_p, exp_f, optim_paras)\n",
    "    \n",
    "    # Calculate period wages for the three choices includings chocks' realizations\n",
    "    period_wages = calculate_period_wages(wage_systematic, draws)\n",
    "    \n",
    "    # Calculate 1st part of the period flow utility related to consumption\n",
    "    consumption_utilities = calculate_consumption_utilities(period_wages)\n",
    "    \n",
    "    # Calculate total utility by multiplying U(.) component\n",
    "    utilities = calculate_total_utilities(consumption_utilities, optim_paras)\n",
    "    \n",
    "    # Return function output\n",
    "    return utilities, consumption_utilities, period_wages, wage_systematic"
   ]
  },
  {
   "cell_type": "code",
   "execution_count": 11,
   "metadata": {},
   "outputs": [],
   "source": [
    "def construct_covariates(states_all, period, k):\n",
    "    \"\"\"Constructs additional covariates given state space components.\"\"\"\n",
    "    \n",
    "    # Determine education level given number of years of education\n",
    "    # Would it be more efficient to do this somewhere else?\n",
    "\n",
    "    # Unpack state space components\n",
    "    educ_years = states_all[period, k, 0]\n",
    "\n",
    "    # Extract education information\n",
    "    if (educ_years <= 10):\n",
    "        educ_level = [1,0,0]\n",
    "\n",
    "    elif (educ_years > 10) and (educ_years <= 12):\n",
    "        educ_level = [0,1,0]\n",
    "\n",
    "    else:\n",
    "        educ_level = [0,0,1]\n",
    "\n",
    "    educ_years_idx = educ_years - educ_min\n",
    "    \n",
    "    # Return function output\n",
    "    return educ_level, educ_years_idx"
   ]
  },
  {
   "cell_type": "code",
   "execution_count": 12,
   "metadata": {},
   "outputs": [],
   "source": [
    "def calculate_continuation_values (period, educ_years_idx, exp_p, exp_f):\n",
    "    \"\"\"Obtain continuation values for all choices.\"\"\"\n",
    "\n",
    "    # Initialize container for continuation values\n",
    "    continuation_values = np.tile(MISSING_FLOAT, num_choices)\n",
    "\n",
    "    if period != (num_periods - 1):\n",
    "\n",
    "        # Choice: Non-employment\n",
    "        # Create index for extracting the continuation value\n",
    "        future_idx = mapping_states_index[period + 1, educ_years_idx, 0, exp_p, exp_f]\n",
    "        # Extract continuation value\n",
    "        continuation_values[0] = periods_emax[period + 1, future_idx] \n",
    "\n",
    "        # Choice: Part-time\n",
    "        future_idx = mapping_states_index[period + 1, educ_years_idx, 1, exp_p + 1, exp_f]\n",
    "        continuation_values[1] = periods_emax[period + 1, future_idx]\n",
    "\n",
    "        # Choice: Full-time\n",
    "        future_idx = mapping_states_index[period + 1, educ_years_idx, 2, exp_p, exp_f + 1]\n",
    "        continuation_values[2] = periods_emax[period + 1, future_idx]\n",
    "    \n",
    "    else:\n",
    "        continuation_values = np.tile(0.0, num_choices)\n",
    "        \n",
    "    # Record function output\n",
    "    return continuation_values"
   ]
  },
  {
   "cell_type": "code",
   "execution_count": 13,
   "metadata": {},
   "outputs": [],
   "source": [
    "def construct_emax (period,\n",
    "                         k,\n",
    "                         educ_level,\n",
    "                         educ_years_idx,\n",
    "                         num_periods,\n",
    "                         num_draws_emax,\n",
    "                         draws_emax_period,\n",
    "                         states_all,\n",
    "                         mapping_states_index,\n",
    "                         optim_paras,\n",
    "                         periods_emax,\n",
    "):\n",
    "    \"\"\"Obtain the maximum of the value fucntion over the available choices \n",
    "    via a Monte Carlo simulation integration procedure.\n",
    "    \"\"\"\n",
    "    \n",
    "    # Initialize container for sum of maximum value functions\n",
    "    # over all error term draws for the period and state\n",
    "    emax = 0.0\n",
    "    \n",
    "    # Loop over all error term draws\n",
    "    # for the period and state currently rached by the parent loop\n",
    "    for i in range(num_draws_emax):\n",
    "        \n",
    "        # Extract the error term draws corresponding to\n",
    "        # period number, state, and loop iteration number, i\n",
    "        corresponding_draws = draws_emax_period[i, :]\n",
    "        \n",
    "        # Extract relevant state space components \n",
    "        educ_years, _, exp_p, exp_f = states_all[period, k, :]\n",
    "        \n",
    "        # Calculate flow utility at current period, state, and draw\n",
    "        flow_utilities = calculate_utilities(educ_level, exp_p, exp_f, optim_paras, corresponding_draws)[0]\n",
    "        \n",
    "        # Obtain continuation values for all choices\n",
    "        continuation_values = calculate_continuation_values(period, educ_years_idx, exp_p, exp_f)\n",
    "        \n",
    "        # Calculate choice specific value functions\n",
    "        value_functions = flow_utilities + delta*continuation_values\n",
    "        \n",
    "        # Obtain highest value function\n",
    "        maximum = max(value_functions)\n",
    "        \n",
    "        # Add to sum over all draws\n",
    "        emax += maximum\n",
    "        \n",
    "        # End loop\n",
    "    \n",
    "    # Average over the number of draws\n",
    "    emax = emax / num_draws_emax\n",
    "    \n",
    "    # Thus, we have integrated out the error term\n",
    "    \n",
    "    # Output\n",
    "    return emax"
   ]
  },
  {
   "cell_type": "markdown",
   "metadata": {},
   "source": [
    "Before we begin the backward iteration procedure, we initialize the container for the final result."
   ]
  },
  {
   "cell_type": "code",
   "execution_count": 14,
   "metadata": {},
   "outputs": [],
   "source": [
    "# Initialize container for the final result,\n",
    "# maximal value function per perdiod and state:\n",
    "periods_emax = np.tile(MISSING_FLOAT, (num_periods, max_states_period))"
   ]
  },
  {
   "cell_type": "markdown",
   "metadata": {},
   "source": [
    "We can now start the backward iteration procedure."
   ]
  },
  {
   "cell_type": "code",
   "execution_count": 15,
   "metadata": {},
   "outputs": [],
   "source": [
    "# Loop over all periods\n",
    "for period in range(num_periods - 1, -1, -1):\n",
    "    \n",
    "    # Select the random draws for Monte Carlo integration relevant for the period\n",
    "    draws_emax_period = draws_emax[period, :, :]\n",
    "    \n",
    "    # Loop over all admissible state space points\n",
    "    # for the period currently reached by the parent loop\n",
    "    for k in range(states_number_period[period]):\n",
    "        \n",
    "        # Construct additional education information\n",
    "        educ_level, educ_years_idx = construct_covariates(states_all, period, k)  \n",
    "            \n",
    "        # Integrate out the error term\n",
    "        emax = construct_emax (\n",
    "            period,\n",
    "            k,\n",
    "            educ_level,\n",
    "            educ_years_idx,\n",
    "            num_periods,\n",
    "            num_draws_emax,\n",
    "            draws_emax_period,\n",
    "            states_all,\n",
    "            mapping_states_index,\n",
    "            optim_paras,\n",
    "            periods_emax,\n",
    "        )\n",
    "        \n",
    "        # Record function output\n",
    "        periods_emax[period, k] = emax"
   ]
  },
  {
   "cell_type": "markdown",
   "metadata": {},
   "source": [
    "Export final output:"
   ]
  },
  {
   "cell_type": "code",
   "execution_count": 16,
   "metadata": {},
   "outputs": [],
   "source": [
    "# Choose a file name\n",
    "file_name = \"periods_emax_file.pkl\"\n",
    "\n",
    "# Open the file for writing\n",
    "with open(file_name,'wb') as my_file_obj:\n",
    "    pickle.dump(periods_emax, my_file_obj)  "
   ]
  }
 ],
 "metadata": {
  "kernelspec": {
   "display_name": "Python 3",
   "language": "python",
   "name": "python3"
  },
  "language_info": {
   "codemirror_mode": {
    "name": "ipython",
    "version": 3
   },
   "file_extension": ".py",
   "mimetype": "text/x-python",
   "name": "python",
   "nbconvert_exporter": "python",
   "pygments_lexer": "ipython3",
   "version": "3.7.0"
  }
 },
 "nbformat": 4,
 "nbformat_minor": 2
}
