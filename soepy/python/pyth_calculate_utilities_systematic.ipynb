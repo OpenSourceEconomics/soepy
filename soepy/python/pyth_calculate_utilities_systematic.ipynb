{
 "cells": [
  {
   "cell_type": "markdown",
   "metadata": {},
   "source": [
    "Notes:\n",
    "- The way the indicator for the level of education is introduced needs to be improved. Current implementation will be unnecessarily slow when the model grows bigger."
   ]
  },
  {
   "cell_type": "code",
   "execution_count": 1,
   "metadata": {},
   "outputs": [],
   "source": [
    "import pickle\n",
    "import numpy as np"
   ]
  },
  {
   "cell_type": "markdown",
   "metadata": {},
   "source": [
    "As a first step, we need to ensure that all arguments we need to supply to the function are available."
   ]
  },
  {
   "cell_type": "code",
   "execution_count": 2,
   "metadata": {},
   "outputs": [],
   "source": [
    "# Import the final output of pyth_create_state_space, args\n",
    "file_name = \"args_file\"\n",
    "# Open the file for reading\n",
    "file_object = open(file_name,'rb')  \n",
    "# load the object from the file into var args\n",
    "args = pickle.load(file_object)"
   ]
  },
  {
   "cell_type": "code",
   "execution_count": 3,
   "metadata": {},
   "outputs": [],
   "source": [
    "# Unpack objects from agrs\n",
    "states_all, states_number_period, mapping_states_index, max_states_period = args[0], args[1], args[2], args[3]"
   ]
  },
  {
   "cell_type": "code",
   "execution_count": 4,
   "metadata": {},
   "outputs": [],
   "source": [
    "# Create additional variables:\n",
    "num_periods = 10\n",
    "num_choices = 3"
   ]
  },
  {
   "cell_type": "code",
   "execution_count": 5,
   "metadata": {},
   "outputs": [],
   "source": [
    "# Set constants:\n",
    "MISSING_INT = -99\n",
    "MISSING_FLOAT = -99.00\n",
    "mu = -0.56 # curvature parameter of the utility function; since it is negative, all utilities should be nonpositive"
   ]
  },
  {
   "cell_type": "code",
   "execution_count": 6,
   "metadata": {},
   "outputs": [],
   "source": [
    "# Specify the values of the model parameters, optim_paras\n",
    "\n",
    "gamma_0s1 = 5.406 # coef on b0, Blundell Table VIII, p. 1733\n",
    "gamma_0s2 = 5.574\n",
    "gamma_0s3 = 6.949\n",
    "gamma_1s1 = 0.152 # coef on gamma0, Blundell Table VIII, p. 1733\n",
    "gamma_1s2 = 0.229\n",
    "gamma_1s3 = 0.306\n",
    "g_s1      = 0.150 #coef on g(P), Blundell Table VIII, p. 1733\n",
    "g_s2      = 0.096\n",
    "g_s3      = 0.116\n",
    "delta_s1  = 0.081 # coef on delta, Blundell Table VIII, p. 1733\n",
    "delta_s2  = 0.057\n",
    "delta_s3  = 0.073\n",
    "theta_p   = 0.3 # rough average of coef values in Blundell Table IX, p. 1734\n",
    "theta_f   = 0.1 # rough average of coef values in Blundell Table IX, p. 1734\n",
    "\n",
    "\n",
    "optim_paras = [theta_p, \n",
    "               theta_f, \n",
    "               gamma_0s1, \n",
    "               gamma_0s2, \n",
    "               gamma_0s3, \n",
    "               gamma_1s1, \n",
    "               gamma_1s2, \n",
    "               gamma_1s3, \n",
    "               delta_s1, \n",
    "               delta_s2, \n",
    "               delta_s3, \n",
    "               g_s1, \n",
    "               g_s2, \n",
    "               g_s3]"
   ]
  },
  {
   "cell_type": "markdown",
   "metadata": {},
   "source": [
    "As a second step, we need to define auxiliary functions."
   ]
  },
  {
   "cell_type": "code",
   "execution_count": 7,
   "metadata": {},
   "outputs": [],
   "source": [
    "def calculate_utilities(educ_lev, exp_p, exp_f, optim_paras):\n",
    "    \"\"\"Calculate systematic component of utility by choice, state, and period.\"\"\"\n",
    "    \n",
    "    # Initialize container for utilities at state space point and period\n",
    "    utilities = np.tile(np.nan, num_choices)\n",
    "    \n",
    "    # Calculate utilities for the avaibale joices N, P, F\n",
    "    \n",
    "    # Non-employment\n",
    "    utilities[0] = 0\n",
    "    \n",
    "    #Part-time employment\n",
    "    utilities[1] = 18*(np.exp(np.dot(educ_lev, optim_paras[0:3])) + \n",
    "                       np.dot(educ_lev, optim_paras[3:6]) *\n",
    "                       (exp_p * np.dot(educ_lev, optim_paras[6:9]) + exp_f) \n",
    "                       * (1 - np.dot(educ_lev, optim_paras[9:12])) + 1)**mu/mu + optim_paras[12]\n",
    "    \n",
    "    # Full-time employment\n",
    "    utilities[2] = 38*(np.exp(np.dot(educ_lev, optim_paras[0:3])) + \n",
    "                       np.dot(educ_lev, optim_paras[3:6]) *\n",
    "                       (exp_p * np.dot(educ_lev, optim_paras[6:9]) + exp_f) \n",
    "                       * (1 - np.dot (educ_lev, optim_paras[9:12])) + 1)**mu/mu + optim_paras[13]\n",
    "    \n",
    "    return utilities"
   ]
  },
  {
   "cell_type": "markdown",
   "metadata": {},
   "source": [
    "Let us provide some details concerning the above function.\n",
    "\n",
    "Since we want to estimate coefficients which differ by the level of education of the agents (e.g., gamma, delta, g), it is convenient to create and indicator variable educ_lev. The indicator \"low\" is assigned if (in this example) the years of education completed are only 10, \"middle\" is assigned if 11 or 12, and \"high\" if the years of education are 13 or 14.\n",
    "\n",
    "The utility calculation is based on hours worked. Respectively, each occupation choice is associated with a number ob hours worked. Following Blundell, in the systematic utilities calculation we use 0, 18 and 38 hours in case the current period choice is N, P, or F, respectively."
   ]
  },
  {
   "cell_type": "markdown",
   "metadata": {},
   "source": [
    "Then, we can start with the function:"
   ]
  },
  {
   "cell_type": "code",
   "execution_count": 8,
   "metadata": {},
   "outputs": [],
   "source": [
    "# Initialize container\n",
    "shape = (num_periods, max_states_period, num_choices)\n",
    "period_utilities_systematic = np.tile(MISSING_FLOAT, shape)"
   ]
  },
  {
   "cell_type": "markdown",
   "metadata": {},
   "source": [
    "In the object containing the target output of the function (period_utilities_systematic) we record the utility level net of shocks for every possible choice in the period, every admissible state space point in the period, and every period."
   ]
  },
  {
   "cell_type": "code",
   "execution_count": 9,
   "metadata": {},
   "outputs": [],
   "source": [
    "# Loop over all periods (skipping the last)\n",
    "for period in range(num_periods - 1, -1, -1): # arguments are range(start, stop, step)\n",
    "    \n",
    "    # Loop over all admissible state space points in the period\n",
    "    for k in range(states_number_period[period]):\n",
    "        \n",
    "        # Unpack state space components\n",
    "        educ_years, choice_lagged, exp_p, exp_f = states_all[period, k, :]\n",
    "        \n",
    "        # Extract education information\n",
    "        if (educ_years <= 10):\n",
    "            educ_lev = [1,0,0]\n",
    "\n",
    "        elif (educ_years > 10) and (educ_years <= 12):\n",
    "            educ_lev = [0,1,0]\n",
    "\n",
    "        else:\n",
    "            educ_lev = [0,0,1]\n",
    "        \n",
    "        # Calculate rewards for each choice at state space point and period\n",
    "        period_utilities_systematic[period, k, :] = calculate_utilities(educ_lev, exp_p, exp_f, optim_paras)"
   ]
  },
  {
   "cell_type": "markdown",
   "metadata": {},
   "source": [
    "Export final output:"
   ]
  },
  {
   "cell_type": "code",
   "execution_count": 10,
   "metadata": {},
   "outputs": [],
   "source": [
    "# Choose a file name\n",
    "file_name = \"period_utilities_systematic_file\"\n",
    "\n",
    "# Open the file for writing\n",
    "with open(file_name,'wb') as my_file_obj:\n",
    "    pickle.dump(args, my_file_obj)   "
   ]
  }
 ],
 "metadata": {
  "kernelspec": {
   "display_name": "Python 3",
   "language": "python",
   "name": "python3"
  },
  "language_info": {
   "codemirror_mode": {
    "name": "ipython",
    "version": 3
   },
   "file_extension": ".py",
   "mimetype": "text/x-python",
   "name": "python",
   "nbconvert_exporter": "python",
   "pygments_lexer": "ipython3",
   "version": "3.7.0"
  }
 },
 "nbformat": 4,
 "nbformat_minor": 2
}
