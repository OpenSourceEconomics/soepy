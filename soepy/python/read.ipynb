{
 "cells": [
  {
   "cell_type": "code",
   "execution_count": 1,
   "metadata": {},
   "outputs": [],
   "source": [
    "import yaml\n",
    "import numpy as np"
   ]
  },
  {
   "cell_type": "code",
   "execution_count": 2,
   "metadata": {},
   "outputs": [],
   "source": [
    "def init_dict_to_attr_dict(init_dict):\n",
    "    \"\"\"Enhances read in initialization dictionary to\n",
    "    an attribute dictionary to be used by all further model funtions.\"\"\"\n",
    "\n",
    "    # Calculate range of years of education in the (simulated) sample\n",
    "    educ_min = init_dict['INITIAL_CONDITIONS']['educ_min']\n",
    "    educ_max = init_dict['INITIAL_CONDITIONS']['educ_max']\n",
    "    educ_range = educ_range = educ_max - educ_min + 1\n",
    "\n",
    "    # Calculate covariances of the error terms given standard diviations\n",
    "    shocks_cov = np.array([init_dict['PARAMETERS']['optim_paras'][14:17]])**2\n",
    "\n",
    "    init_dict['DERIVED_ATTR'] = {'educ_range': educ_range,\n",
    "                                 'shocks_cov': shocks_cov,\n",
    "                                }\n",
    "    \n",
    "    # Return function output\n",
    "    return init_dict"
   ]
  },
  {
   "cell_type": "code",
   "execution_count": 3,
   "metadata": {},
   "outputs": [],
   "source": [
    "def read_init_file(init_file_name):\n",
    "    \"\"\"Reads in the model specification from yaml file.\"\"\"\n",
    "\n",
    "    # Import yaml initialization file as dictionary init_dict\n",
    "    with open(init_file_name) as y:\n",
    "        init_dict = yaml.load(y)\n",
    "    \n",
    "    attr_dict = init_dict_to_attr_dict(init_dict)\n",
    "    \n",
    "    return attr_dict"
   ]
  }
 ],
 "metadata": {
  "kernelspec": {
   "display_name": "Python 3",
   "language": "python",
   "name": "python3"
  },
  "language_info": {
   "codemirror_mode": {
    "name": "ipython",
    "version": 3
   },
   "file_extension": ".py",
   "mimetype": "text/x-python",
   "name": "python",
   "nbconvert_exporter": "python",
   "pygments_lexer": "ipython3",
   "version": "3.7.0"
  }
 },
 "nbformat": 4,
 "nbformat_minor": 2
}
