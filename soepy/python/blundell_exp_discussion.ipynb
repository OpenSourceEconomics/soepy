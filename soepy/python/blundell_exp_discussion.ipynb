{
 "cells": [
  {
   "cell_type": "code",
   "execution_count": 1,
   "metadata": {},
   "outputs": [],
   "source": [
    "import numpy as np"
   ]
  },
  {
   "cell_type": "code",
   "execution_count": 2,
   "metadata": {},
   "outputs": [],
   "source": [
    "# Set parameters\n",
    "delta = 0.75\n",
    "exp_accum = [0, 0.12, 1] # Elements correspond to g(N), g(P), and g(F) in the model."
   ]
  },
  {
   "cell_type": "markdown",
   "metadata": {},
   "source": [
    "To show that the entire history of labor supply choices matters we want to discuss three cases. In all cases the total number of years in each occupational alternative remain the same: 3 years of full-time experience, 2 years of part-time experience and 1 year of nonemployment. Across the three cases we vary the order in which agents have chosen to engage in the three occupations. In particular, we showcase the following three sequences:\n",
    "- FPFPFN\n",
    "- NPPFFF\n",
    "- PNFPFF\n",
    "\n",
    "We calculate the resulting level of experience at the end of the 6th period using the information on agent's choices and the parameter values for depreciation and experience accumulation."
   ]
  },
  {
   "cell_type": "code",
   "execution_count": 3,
   "metadata": {},
   "outputs": [
    {
     "data": {
      "text/plain": [
       "0.2745703125"
      ]
     },
     "execution_count": 3,
     "metadata": {},
     "output_type": "execute_result"
    }
   ],
   "source": [
    "# Case 1: FPFPFN\n",
    "exp_0 = 0\n",
    "exp_1 = exp_0*(1 - delta) + exp_accum[2]\n",
    "exp_2 = exp_1*(1 - delta) + exp_accum[1]\n",
    "exp_3 = exp_2*(1 - delta) + exp_accum[2]\n",
    "exp_4 = exp_3*(1 - delta) + exp_accum[1]\n",
    "exp_5 = exp_4*(1 - delta) + exp_accum[2]\n",
    "exp_6 = exp_5*(1 - delta) + exp_accum[0]\n",
    "exp_6"
   ]
  },
  {
   "cell_type": "code",
   "execution_count": 4,
   "metadata": {},
   "outputs": [
    {
     "data": {
      "text/plain": [
       "1.31484375"
      ]
     },
     "execution_count": 4,
     "metadata": {},
     "output_type": "execute_result"
    }
   ],
   "source": [
    "# Case 2: NPPFFF\n",
    "exp_0 = 0\n",
    "exp_1 = exp_0*(1 - delta) + exp_accum[0]\n",
    "exp_2 = exp_1*(1 - delta) + exp_accum[1]\n",
    "exp_3 = exp_2*(1 - delta) + exp_accum[1]\n",
    "exp_4 = exp_3*(1 - delta) + exp_accum[2]\n",
    "exp_5 = exp_4*(1 - delta) + exp_accum[2]\n",
    "exp_6 = exp_5*(1 - delta) + exp_accum[2]\n",
    "exp_6"
   ]
  },
  {
   "cell_type": "code",
   "execution_count": 5,
   "metadata": {},
   "outputs": [
    {
     "data": {
      "text/plain": [
       "1.2732421875"
      ]
     },
     "execution_count": 5,
     "metadata": {},
     "output_type": "execute_result"
    }
   ],
   "source": [
    "# Case 3: PNFPFF\n",
    "exp_0 = 0\n",
    "exp_1 = exp_0*(1 - delta) + exp_accum[1]\n",
    "exp_2 = exp_1*(1 - delta) + exp_accum[0]\n",
    "exp_3 = exp_2*(1 - delta) + exp_accum[2]\n",
    "exp_4 = exp_3*(1 - delta) + exp_accum[1]\n",
    "exp_5 = exp_4*(1 - delta) + exp_accum[2]\n",
    "exp_6 = exp_5*(1 - delta) + exp_accum[2]\n",
    "exp_6"
   ]
  },
  {
   "cell_type": "markdown",
   "metadata": {},
   "source": [
    "Points to mention/discuss:\n",
    "- Ulli Schneider uses the exact same formulation as far as experience is concerned as Blundell, so Peter and Ulli should be aware of how to tackle this.\n",
    "- When looking at a case where the individual always chooses the same alternative one can see that the accumulated level of experience amounts to a finite geometric series. Maybe there is something in the formulation related to logarithms and exponents which makes the value of accumulated experience representable by some simple sum of such geometric sums that require tracking only total years of experience in each occupation even in cases where individuals make different choices in each period. Unfortinately, I could not derive anything meaningfull."
   ]
  },
  {
   "cell_type": "code",
   "execution_count": 6,
   "metadata": {},
   "outputs": [
    {
     "name": "stdout",
     "output_type": "stream",
     "text": [
      "0.1599609375 0.15996093749999998\n"
     ]
    }
   ],
   "source": [
    "# Illustration of the finite geometric series\n",
    "# Example assumes same choice in all 6 periods\n",
    "\n",
    "exp_0 = 0\n",
    "exp_1 = exp_0*(1 - delta) + exp_accum[1]\n",
    "exp_2 = exp_1*(1 - delta) + exp_accum[1]\n",
    "exp_3 = exp_2*(1 - delta) + exp_accum[1]\n",
    "exp_4 = exp_3*(1 - delta) + exp_accum[1]\n",
    "exp_5 = exp_4*(1 - delta) + exp_accum[1]\n",
    "exp_61 = exp_5*(1 - delta) + exp_accum[1]\n",
    "\n",
    "n = 5\n",
    "exp_62 = exp_accum[1]*(1 - (1-delta)**(n+1))/(1-(1-delta))\n",
    "\n",
    "print(exp_61, exp_62)"
   ]
  },
  {
   "cell_type": "code",
   "execution_count": null,
   "metadata": {},
   "outputs": [],
   "source": []
  }
 ],
 "metadata": {
  "kernelspec": {
   "display_name": "Python 3",
   "language": "python",
   "name": "python3"
  },
  "language_info": {
   "codemirror_mode": {
    "name": "ipython",
    "version": 3
   },
   "file_extension": ".py",
   "mimetype": "text/x-python",
   "name": "python",
   "nbconvert_exporter": "python",
   "pygments_lexer": "ipython3",
   "version": "3.7.0"
  }
 },
 "nbformat": 4,
 "nbformat_minor": 2
}
