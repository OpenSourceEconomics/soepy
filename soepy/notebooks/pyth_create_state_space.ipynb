{
 "cells": [
  {
   "cell_type": "code",
   "execution_count": 1,
   "metadata": {},
   "outputs": [],
   "source": [
    "import pickle\n",
    "import numpy as np"
   ]
  },
  {
   "cell_type": "markdown",
   "metadata": {},
   "source": [
    "In order to slowly move towards a modular file structure, we define constants, the model parameters, and ohters in separate notebooks. This notebook uses the ipynb library (pip install ipynb) to import constants, model parameters, and funtions that have been moved to other notebooks. The goal of this restructuring is to improve readability, make dependences clear and ease settig up testing tear."
   ]
  },
  {
   "cell_type": "code",
   "execution_count": 2,
   "metadata": {},
   "outputs": [],
   "source": [
    "# Import specified definitions only from given notebook\n",
    "import ipynb.fs\n",
    "from .defs.shared_constants import MISSING_INT\n",
    "from .defs.read import read_init_file\n",
    "from .defs.read import init_dict_to_attr_dict"
   ]
  },
  {
   "cell_type": "code",
   "execution_count": 3,
   "metadata": {},
   "outputs": [],
   "source": [
    "# Read in initialization file as attr_dict\n",
    "attr_dict = read_init_file('toy_model_init_file.yml')"
   ]
  },
  {
   "cell_type": "markdown",
   "metadata": {},
   "source": [
    "In this function I need to unpack num_periods, num_choices, educ_max, educ_min, educ_range. What is a more efficient way to do this, e.g. using kwargs?"
   ]
  },
  {
   "cell_type": "code",
   "execution_count": 4,
   "metadata": {},
   "outputs": [],
   "source": [
    "def pyth_create_state_space(attr_dict):\n",
    "    \"\"\"Create grid for state space.\"\"\"\n",
    "\n",
    "    # Unpack parameter from the model specification\n",
    "    num_choices = attr_dict['GENERAL']['num_choices']\n",
    "    num_periods = attr_dict['GENERAL']['num_periods']\n",
    "    educ_max = attr_dict['INITIAL_CONDITIONS']['educ_max']\n",
    "    educ_min = attr_dict['INITIAL_CONDITIONS']['educ_min']\n",
    "    educ_range = attr_dict['DERIVED_ATTR']['educ_range']\n",
    "\n",
    "    # Array for mapping the state space points to indices\n",
    "    shape = (num_periods, educ_range, num_choices, num_periods, num_periods)\n",
    "    mapping_state_index = np.tile(MISSING_INT, shape)\n",
    "\n",
    "    # Maximum number of state space points per period. There can be no more states in a period than this number. \n",
    "    num_states_period_upper_bound = np.prod(mapping_state_index.shape)\n",
    "\n",
    "    # Array to collect all state space points (states) that can be reached each period\n",
    "    states_all = np.tile(MISSING_INT, (num_periods, num_states_period_upper_bound, 4))\n",
    "\n",
    "    # Array for the maximum number state space points / states per period\n",
    "    states_number_period = np.tile(MISSING_INT, num_periods)\n",
    "\n",
    "\n",
    "    # Loop over all periods / all ages\n",
    "    for period in range(num_periods):\n",
    "\n",
    "        # Start count for admissible state space points\n",
    "        k = 0\n",
    "\n",
    "        # Loop over all possible initial conditions for education\n",
    "        for educ_years in range(educ_range):\n",
    "\n",
    "            # Check if individual has already completed education\n",
    "            # and will make a labor supply choice in the period\n",
    "            if educ_years > period:\n",
    "                continue\n",
    "\n",
    "            # Loop over all admissible years of experience accumulated in part-time\n",
    "            for exp_f in range(num_periods):\n",
    "\n",
    "                # Loop over all admaissible years of experience accumulated in full-time\n",
    "                for exp_p in range(num_periods):\n",
    "\n",
    "                    # The accumulation of experience cannot exceed time lapsed\n",
    "                    # since individual entered the model\n",
    "                    if (exp_f + exp_p > period - educ_years):\n",
    "                        continue\n",
    "\n",
    "                    # Add an additional entry state [educ_years + educ_min, 0, 0, 0]\n",
    "                    # for individuals who have just completed education\n",
    "                    # and still have no experience in any occupation.\n",
    "                    if (period == educ_years):\n",
    "\n",
    "                        # Assign an additional the integer count k\n",
    "                        # for entry state\n",
    "                        mapping_state_index[\n",
    "                            period,\n",
    "                            educ_years,\n",
    "                            0,\n",
    "                            0,\n",
    "                            0,\n",
    "                        ] = k\n",
    "\n",
    "                        # Record the values of the state space components\n",
    "                        # for the currentry reached entry state\n",
    "                        states_all[period, k, :] = [\n",
    "                            educ_years + educ_min,\n",
    "                            0,\n",
    "                            0,\n",
    "                            0,\n",
    "                        ]\n",
    "\n",
    "                        # Update count once more\n",
    "                        k += 1\n",
    "\n",
    "                    else:\n",
    "\n",
    "                        # Loop over the three labor market choices, N, P, F\n",
    "                        for choice_lagged in range(num_choices):\n",
    "\n",
    "                            # If individual has only worked full-time in the past,\n",
    "                            # she can only have full-time (2) as lagged choice\n",
    "                            if (choice_lagged != 2) and (exp_f == period - educ_years):\n",
    "                                continue\n",
    "\n",
    "                            # If individual has only worked part-time in the past,\n",
    "                            # she can only have part-time (1) as lagged choice\n",
    "                            if (choice_lagged != 1) and (exp_p == period - educ_years):\n",
    "                                continue\n",
    "\n",
    "                            # If an individual has never worked full-time,\n",
    "                            # she cannot have that lagged activity\n",
    "                            if (choice_lagged == 2) and (exp_f == 0):\n",
    "                                continue\n",
    "\n",
    "                            # If an individual has never worked part-time,\n",
    "                            # she cannot have that lagged activity\n",
    "                            if (choice_lagged == 1) and (exp_p == 0):\n",
    "                                continue\n",
    "\n",
    "                            # Check for duplicate states\n",
    "                            if (\n",
    "                                mapping_state_index[\n",
    "                                    period,\n",
    "                                    educ_years,\n",
    "                                    choice_lagged,\n",
    "                                    exp_p,\n",
    "                                    exp_f,\n",
    "                                ]\n",
    "                                != MISSING_INT\n",
    "                            ):\n",
    "                                continue\n",
    "\n",
    "                            # Assign the integer count k as an indicator for the\n",
    "                            # currently reached admissible state space point\n",
    "                            mapping_state_index[\n",
    "                                period,\n",
    "                                educ_years,\n",
    "                                choice_lagged,\n",
    "                                exp_p,\n",
    "                                exp_f,\n",
    "                            ] = k\n",
    "\n",
    "                            # Record the values of the state space components\n",
    "                            # for the currently reached admissible state space point\n",
    "                            states_all[period, k, :] = [\n",
    "                                educ_years + educ_min,\n",
    "                                choice_lagged,\n",
    "                                exp_p,\n",
    "                                exp_f,\n",
    "                            ]\n",
    "\n",
    "                            # Update count\n",
    "                            k += 1\n",
    "\n",
    "        # Record number of admissible state space points for the period currently reached in the loop \n",
    "        states_number_period[period] = k\n",
    "\n",
    "    # Auxiliary objects\n",
    "    max_states_period = max(states_number_period)\n",
    "\n",
    "    # Collect arguments\n",
    "    args = (states_all, states_number_period, mapping_state_index, max_states_period)\n",
    "    \n",
    "    # Record function output\n",
    "    return args"
   ]
  },
  {
   "cell_type": "code",
   "execution_count": 5,
   "metadata": {},
   "outputs": [],
   "source": [
    "args = pyth_create_state_space(attr_dict)"
   ]
  },
  {
   "cell_type": "code",
   "execution_count": 6,
   "metadata": {},
   "outputs": [],
   "source": [
    "# Unpack objects from agrs\n",
    "states_all, states_number_period, mapping_states_index, max_states_period = args[0], args[1], args[2], args[3]"
   ]
  },
  {
   "cell_type": "code",
   "execution_count": 7,
   "metadata": {},
   "outputs": [
    {
     "data": {
      "text/plain": [
       "array([  1,   4,  14,  34,  67, 115, 180, 260, 355, 465])"
      ]
     },
     "execution_count": 7,
     "metadata": {},
     "output_type": "execute_result"
    }
   ],
   "source": [
    "states_number_period"
   ]
  },
  {
   "cell_type": "markdown",
   "metadata": {},
   "source": [
    "Ideas checks and tests:\n",
    "- check if loop visits the whole range of values by checking min and max of array entries for the differnt state space components."
   ]
  },
  {
   "cell_type": "code",
   "execution_count": 8,
   "metadata": {},
   "outputs": [
    {
     "name": "stdout",
     "output_type": "stream",
     "text": [
      "14 2 9 9\n"
     ]
    }
   ],
   "source": [
    "print(np.amax(states_all[:,:,0]), np.amax(states_all[:,:,1]), np.amax(states_all[:,:,2]), np.amax(states_all[:,:,3]))"
   ]
  },
  {
   "cell_type": "markdown",
   "metadata": {},
   "source": [
    "Export final output:"
   ]
  },
  {
   "cell_type": "code",
   "execution_count": 9,
   "metadata": {},
   "outputs": [],
   "source": [
    "# Choose a file name\n",
    "file_name = \"args_file.pkl\"\n",
    "\n",
    "# Open the file for writing\n",
    "with open(file_name,'wb') as my_file_obj:\n",
    "    pickle.dump(args, my_file_obj)"
   ]
  },
  {
   "cell_type": "code",
   "execution_count": null,
   "metadata": {},
   "outputs": [],
   "source": [
    ""
   ]
  }
 ],
 "metadata": {
  "kernelspec": {
   "display_name": "Python 3",
   "language": "python",
   "name": "python3"
  },
  "language_info": {
   "codemirror_mode": {
    "name": "ipython",
    "version": 3.0
   },
   "file_extension": ".py",
   "mimetype": "text/x-python",
   "name": "python",
   "nbconvert_exporter": "python",
   "pygments_lexer": "ipython3",
   "version": "3.7.0"
  }
 },
 "nbformat": 4,
 "nbformat_minor": 0
}