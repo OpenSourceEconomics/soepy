{
 "cells": [
  {
   "cell_type": "markdown",
   "metadata": {},
   "source": [
    "In this model we collect the model parameters and other values needed to fully specify the model.\n",
    "In a next, step these are to be reorganized in a dictionary following grmpy structure."
   ]
  },
  {
   "cell_type": "code",
   "execution_count": 1,
   "metadata": {},
   "outputs": [],
   "source": [
    "num_periods = 10\n",
    "num_choices = 3 # Individuals can choose between full-time (F), part-time (P), and non-employment (N), i.e. there are 3 choices\n",
    "educ_max = 14 # Maximum number of years of educ in the data, i.e., upper bound of education initial condition\n",
    "educ_min = 10 # Minimim number of years of educ in the data, i.e., lower bound of education initial condition"
   ]
  },
  {
   "cell_type": "code",
   "execution_count": 2,
   "metadata": {},
   "outputs": [],
   "source": [
    "# Auxiliary calculation of the education dimension\n",
    "# Possibly move to a different file later\n",
    "educ_range = educ_max - educ_min + 1"
   ]
  },
  {
   "cell_type": "code",
   "execution_count": 3,
   "metadata": {},
   "outputs": [],
   "source": [
    "mu = -0.56\n",
    "delta = 0.98 # discount rate"
   ]
  },
  {
   "cell_type": "code",
   "execution_count": 4,
   "metadata": {},
   "outputs": [],
   "source": [
    "# Specify the values of the model parameters, optim_paras\n",
    "# (in final version, to be supplied at initialization or to be estimated)\n",
    "gamma_0s1 = 5.406 # coef on b0, Blundell Table VIII, p. 1733\n",
    "gamma_0s2 = 5.574\n",
    "gamma_0s3 = 6.949\n",
    "gamma_1s1 = 0.152 # coef on gamma0, Blundell Table VIII, p. 1733\n",
    "gamma_1s2 = 0.229\n",
    "gamma_1s3 = 0.306\n",
    "g_s1      = 0.150 #coef on g(P), Blundell Table VIII, p. 1733\n",
    "g_s2      = 0.096\n",
    "g_s3      = 0.116\n",
    "delta_s1  = 0.081 # coef on delta, Blundell Table VIII, p. 1733\n",
    "delta_s2  = 0.057\n",
    "delta_s3  = 0.073\n",
    "theta_p   = 0.3 # rough average of coef values in Blundell Table IX, p. 1734\n",
    "theta_f   = 0.1 # rough average of coef values in Blundell Table IX, p. 1734\n",
    "\n",
    "# Add values of the standard diviations of the disturbanceas to the vector of model parameters\n",
    "# For the backward indiction, the standard diviations are the additional (here, only) parameters needed.\n",
    "sigma_1 = 2.00\n",
    "sigma_2 = 2.50\n",
    "\n",
    "\n",
    "optim_paras = [theta_p, \n",
    "               theta_f, \n",
    "               gamma_0s1, \n",
    "               gamma_0s2, \n",
    "               gamma_0s3, \n",
    "               gamma_1s1, \n",
    "               gamma_1s2, \n",
    "               gamma_1s3, \n",
    "               delta_s1, \n",
    "               delta_s2, \n",
    "               delta_s3, \n",
    "               g_s1, \n",
    "               g_s2, \n",
    "               g_s3,\n",
    "               sigma_1,\n",
    "               sigma_2,]"
   ]
  },
  {
   "cell_type": "code",
   "execution_count": 5,
   "metadata": {},
   "outputs": [],
   "source": [
    "num_draws_emax = 500\n",
    "num_agents_sim = 10\n",
    "seed_emax = 635\n",
    "seed_sim = 102"
   ]
  }
 ],
 "metadata": {
  "kernelspec": {
   "display_name": "Python 3",
   "language": "python",
   "name": "python3"
  },
  "language_info": {
   "codemirror_mode": {
    "name": "ipython",
    "version": 3.0
   },
   "file_extension": ".py",
   "mimetype": "text/x-python",
   "name": "python",
   "nbconvert_exporter": "python",
   "pygments_lexer": "ipython3",
   "version": "3.7.0"
  }
 },
 "nbformat": 4,
 "nbformat_minor": 0
}